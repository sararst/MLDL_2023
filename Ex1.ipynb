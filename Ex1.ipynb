{
  "nbformat": 4,
  "nbformat_minor": 0,
  "metadata": {
    "colab": {
      "provenance": [],
      "authorship_tag": "ABX9TyMLOTIeSDsyHZB+mFIuUrlf",
      "include_colab_link": true
    },
    "kernelspec": {
      "name": "python3",
      "display_name": "Python 3"
    },
    "language_info": {
      "name": "python"
    }
  },
  "cells": [
    {
      "cell_type": "markdown",
      "metadata": {
        "id": "view-in-github",
        "colab_type": "text"
      },
      "source": [
        "<a href=\"https://colab.research.google.com/github/sararst/MLDL_2023/blob/main/Ex1.ipynb\" target=\"_parent\"><img src=\"https://colab.research.google.com/assets/colab-badge.svg\" alt=\"Open In Colab\"/></a>"
      ]
    },
    {
      "cell_type": "markdown",
      "source": [
        "Perceptron"
      ],
      "metadata": {
        "id": "BkjwHgka8bWm"
      }
    },
    {
      "cell_type": "code",
      "execution_count": null,
      "metadata": {
        "id": "Y8Y1m9er8OX8"
      },
      "outputs": [],
      "source": [
        "# class Perceptron:\n",
        "#   def __init__(self, learning_rate=0.1):\n",
        "#     self.learning_rate = learning_rate\n",
        "#     self.n_iter = n_iter\n",
        "#     self._b = 0.0\n",
        "#     self._w = None\n",
        "#     self.misclassifies_samples = []"
      ]
    },
    {
      "cell_type": "code",
      "source": [
        "# def f(self, x: np.array) -> float:\n",
        "#   return np.dot(x, self._w) + self._b\n",
        "\n",
        "# def predict(self, x: np.array) -> int:\n",
        "#   return np.where(self.f(x) >= 0.0, 1, -1)"
      ],
      "metadata": {
        "id": "5D_VrApz9TAt"
      },
      "execution_count": 2,
      "outputs": []
    },
    {
      "cell_type": "code",
      "source": [
        "# def fit(self, x: np.array, y: np.array):\n",
        "#   self._b = 0.0\n",
        "#   self._w = np.zeros(x.shape[1])\n",
        "#   self._misclassified_samples = []\n",
        "\n",
        "#   for _ in range(self.n_iter):\n",
        "#     errors = 0  # errors during this iteration\n",
        "#     for xi, yi in zip(x, y):\n",
        "#       update = self.learning_rate * (yi - self.predict(xi))\n",
        "#       self._b += update\n",
        "#       self._w += update * xi\n",
        "#       errors += int(update != 0.0)\n",
        "#     self.misclassifies_samples.append(errors)"
      ],
      "metadata": {
        "id": "N2CUvKnk9taj"
      },
      "execution_count": 4,
      "outputs": []
    },
    {
      "cell_type": "markdown",
      "source": [
        "Exercise 1"
      ],
      "metadata": {
        "id": "LR1rOuz8-z3w"
      }
    },
    {
      "cell_type": "code",
      "source": [
        "from sklearn.datasets import load_iris\n",
        "from sklearn.model_selection import train_test_split\n",
        "from sklearn.linear_model import Perceptron\n",
        "from sklearn.metrics import accuracy_score\n",
        "import numpy as np\n",
        "import pandas as pd"
      ],
      "metadata": {
        "id": "JBBGPA3G-8gB"
      },
      "execution_count": 44,
      "outputs": []
    },
    {
      "cell_type": "code",
      "source": [
        "# 1: load Iris dataset\n",
        "iris = load_iris()\n",
        "\n",
        "X = iris.data\n",
        "y = iris.target\n",
        "names = iris.target_names\n",
        "\n",
        "df = pd.DataFrame(X, columns=iris.feature_names)\n",
        "df['species'] = y\n",
        "df['species'] = df['species'].replace(to_replace=[0, 1, 2], value=['setosa', 'versicolor', 'virginica'])"
      ],
      "metadata": {
        "id": "1Ko-kU59-za6"
      },
      "execution_count": 37,
      "outputs": []
    },
    {
      "cell_type": "code",
      "source": [
        "# print('The data matrix:\\n',iris['data'])\n",
        "# print('The classification target:\\n',iris['target'])\n",
        "# print('The names of the dataset columns:\\n',iris['feature_names'])\n",
        "# print('The names of target classes:\\n',iris['target_names'])\n",
        "# print('The full description of the dataset:\\n',iris['DESCR'])\n",
        "# print('The path to the location of the data:\\n',iris['filename'])"
      ],
      "metadata": {
        "id": "WrKj5tM9_J6t"
      },
      "execution_count": null,
      "outputs": []
    },
    {
      "cell_type": "code",
      "source": [
        "# select the first two features and the first two categories\n",
        "X = X[:, :2]\n",
        "y = y[:100]\n",
        "\n",
        "df_2 = df.iloc[:100, :2]\n",
        "df_2\n",
        "\n",
        "X = X[:100]"
      ],
      "metadata": {
        "id": "pHJT4KHG_2j2"
      },
      "execution_count": 49,
      "outputs": []
    },
    {
      "cell_type": "code",
      "source": [
        "# 3: randomly split data intro train, validation and tests set in proportion 5:2:3\n",
        "X_trainval, X_test, y_trainval, y_test = train_test_split(X, y, test_size=0.3, random_state=42)\n",
        "X_train, X_val, y_train, y_val = train_test_split(X_trainval, y_trainval, test_size=0.2857, random_state=42)\n",
        "\n",
        "# Split the data into train, validation, and test sets (df)\n",
        "# trainval, test = train_test_split(df_2, test_size=0.3, random_state=42)\n",
        "# train, val = train_test_split(trainval, test_size=0.2857, random_state=42)"
      ],
      "metadata": {
        "id": "Xkc416oLFhB3"
      },
      "execution_count": 52,
      "outputs": []
    },
    {
      "cell_type": "code",
      "source": [
        "# Verify the proportions of the splits\n",
        "\n",
        "print(f\"Train set size: {X_train.shape[0]}, Validation set size: {X_val.shape[0]}, Test set size: {X_test.shape[0]}\")\n",
        "# print(f\"Train set size: {train.shape[0]}, Validation set size: {val.shape[0]}, Test set size: {test.shape[0]}\")"
      ],
      "metadata": {
        "colab": {
          "base_uri": "https://localhost:8080/"
        },
        "id": "8gyfwTr3IOUl",
        "outputId": "a15dab8b-0075-4320-afa7-98865e84bdd3"
      },
      "execution_count": 53,
      "outputs": [
        {
          "output_type": "stream",
          "name": "stdout",
          "text": [
            "Train set size: 50, Validation set size: 20, Test set size: 30\n"
          ]
        }
      ]
    },
    {
      "cell_type": "code",
      "source": [
        "# For learning rate in [0.01, 0.1, 0.5]:\n",
        "# • Train a perceptron on the training set;\n",
        "# • Plot the data and the decision regions (hint: plt.scatter(), plt.contourf(), \n",
        "# np.meshgrid())\n",
        "# • Evaluate on the validation set.\n",
        "\n",
        "for learning_rate in [0.01, 0.1, 0.5]:\n",
        "  # initialize the perceptron\n",
        "  # tol parameter to 1e-3 to specify the stopping criterion for the perceptron\n",
        "  # random_state parameter to 0 to ensure that the results are reproducible\n",
        "  # eta0 parameter to the learning rate\n",
        "  clf = Perceptron(tol=1e-3, random_state=0, eta0=learning_rate)\n",
        "\n",
        "  # train the perceptron\n",
        "  clf.fit(X_train, y_train)\n",
        "\n",
        "  # predict the labels of the training set\n",
        "  y_pred_train = clf.predict(X_train)\n",
        "\n",
        "  # calculate the accuracy of the perceptron on the training set\n",
        "  acc_train = accuracy_score(y_train, y_pred_train)\n",
        "\n",
        "  # Print the accuracy of the perceptron on the training set\n",
        "  print(f\"Learning rate: {learning_rate}, Accuracy on training set: {acc_train}\")\n"
      ],
      "metadata": {
        "colab": {
          "base_uri": "https://localhost:8080/"
        },
        "id": "TMjJ3NL3PjrS",
        "outputId": "6b2428e2-c44b-4540-f839-49f04073e13a"
      },
      "execution_count": 54,
      "outputs": [
        {
          "output_type": "stream",
          "name": "stdout",
          "text": [
            "Learning rate: 0.01, Accuracy on training set: 0.84\n",
            "Learning rate: 0.1, Accuracy on training set: 0.98\n",
            "Learning rate: 0.5, Accuracy on training set: 0.98\n"
          ]
        }
      ]
    },
    {
      "cell_type": "code",
      "source": [],
      "metadata": {
        "id": "fx3PWVEtP9N9"
      },
      "execution_count": null,
      "outputs": []
    }
  ]
}