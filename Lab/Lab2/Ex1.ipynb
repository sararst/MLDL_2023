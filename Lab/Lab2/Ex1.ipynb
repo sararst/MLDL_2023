{
  "nbformat": 4,
  "nbformat_minor": 0,
  "metadata": {
    "colab": {
      "provenance": [],
      "authorship_tag": "ABX9TyM63DEeWDAlHntBOM47BbfL"
    },
    "kernelspec": {
      "name": "python3",
      "display_name": "Python 3"
    },
    "language_info": {
      "name": "python"
    }
  },
  "cells": [
    {
      "cell_type": "code",
      "execution_count": null,
      "metadata": {
        "id": "o4ekLq_6YfD8"
      },
      "outputs": [],
      "source": [
        "import matplotlib.pyplot as plt\n",
        "from sklearn import datasets\n",
        "from sklearn.cluster import KMeans\n",
        "import pandas as pd\n",
        "from sklearn.model_selection import train_test_split\n",
        "from sklearn.preprocessing import StandardScaler, MaxAbsScaler\n",
        "\n",
        "# visualization libraries\n",
        "import seaborn as sns\n",
        "sns.set(style=\"darkgrid\")"
      ]
    },
    {
      "cell_type": "markdown",
      "source": [
        "Load & preprocess"
      ],
      "metadata": {
        "id": "uxA-gH-Ac47W"
      }
    },
    {
      "cell_type": "code",
      "source": [
        "iris =  datasets.load_iris()\n",
        "iris_df = pd.DataFrame(iris.data, columns=iris.feature_names)\n",
        "\n",
        "x = iris.data\n",
        "y = iris.target\n",
        "\n",
        "scaler = MaxAbsScaler()\n",
        "X_scaled = scaler.fit_transform(x)\n",
        "\n",
        "# x_train, x_test, y_train, y_test = train_test_split(x, y, test_size=0.2, random_state=0)"
      ],
      "metadata": {
        "id": "u1rBNL0VZFkr"
      },
      "execution_count": null,
      "outputs": []
    },
    {
      "cell_type": "markdown",
      "source": [
        "KMeans"
      ],
      "metadata": {
        "id": "pQsl6YIzc3qK"
      }
    },
    {
      "cell_type": "code",
      "source": [
        "from sklearn.metrics.cluster import homogeneity_completeness_v_measure\n",
        "from sklearn.metrics import silhouette_score\n",
        "random_state = [i for i in range(0, 20)]\n",
        "\n",
        "for i, rs in enumerate(random_state):\n",
        "  kmeans = KMeans(n_clusters=3, random_state = rs)\n",
        "  y_pred = kmeans.fit_predict(X_scaled)\n",
        "  h, c, v = homogeneity_completeness_v_measure(y, y_pred)\n",
        "  s = silhouette_score(X_scaled, y_pred)\n",
        "  print(f\"{i}) rs = {rs}: \")\n",
        "  print(f\"\\t num_iterations = {kmeans.n_iter_}\")\n",
        "  print(f\"\\thomogeneuty = {h}, completeness = {c}, v-measure = {v}\")\n",
        "  print(f\"\\tsilhouette = {s}\")\n",
        "\n",
        "\n",
        "# y_kmeans = kmeans.fit_predict(x_train)\n",
        "# print(kmeans.cluster_centers_)\n",
        "# plt.scatter(x_train[y_kmeans==0, 0], x_train[y_kmeans==0, 1], s=100, c='red', label='Virginica')\n",
        "# plt.scatter(x_train[y_kmeans==1, 0], x_train[y_kmeans==1, 1], s=100, c='blue', label='Versicolour')\n",
        "# plt.scatter(x_train[y_kmeans==2, 0], x_train[y_kmeans==2, 1], s=100, c='green', label='Setosa')\n",
        "# plt.scatter(kmeans.cluster_centers_[:, 0], kmeans.cluster_centers_[:, 1], s=100, c='black', label='centroids')\n",
        "# plt.legend()\n",
        "# plt.show()"
      ],
      "metadata": {
        "colab": {
          "base_uri": "https://localhost:8080/"
        },
        "id": "60K6iuEjc2lQ",
        "outputId": "cbf21fcb-d921-44a5-ed08-3527ef2bae60"
      },
      "execution_count": null,
      "outputs": [
        {
          "output_type": "stream",
          "name": "stderr",
          "text": [
            "/usr/local/lib/python3.9/dist-packages/sklearn/cluster/_kmeans.py:870: FutureWarning: The default value of `n_init` will change from 10 to 'auto' in 1.4. Set the value of `n_init` explicitly to suppress the warning\n",
            "  warnings.warn(\n",
            "/usr/local/lib/python3.9/dist-packages/sklearn/cluster/_kmeans.py:870: FutureWarning: The default value of `n_init` will change from 10 to 'auto' in 1.4. Set the value of `n_init` explicitly to suppress the warning\n",
            "  warnings.warn(\n",
            "/usr/local/lib/python3.9/dist-packages/sklearn/cluster/_kmeans.py:870: FutureWarning: The default value of `n_init` will change from 10 to 'auto' in 1.4. Set the value of `n_init` explicitly to suppress the warning\n",
            "  warnings.warn(\n",
            "/usr/local/lib/python3.9/dist-packages/sklearn/cluster/_kmeans.py:870: FutureWarning: The default value of `n_init` will change from 10 to 'auto' in 1.4. Set the value of `n_init` explicitly to suppress the warning\n",
            "  warnings.warn(\n",
            "/usr/local/lib/python3.9/dist-packages/sklearn/cluster/_kmeans.py:870: FutureWarning: The default value of `n_init` will change from 10 to 'auto' in 1.4. Set the value of `n_init` explicitly to suppress the warning\n",
            "  warnings.warn(\n"
          ]
        },
        {
          "output_type": "stream",
          "name": "stdout",
          "text": [
            "0) rs = 0: \n",
            "\t num_iterations = 5\n",
            "\thomogeneuty = 0.8639756867013153, completeness = 0.8643954288752762, v-measure = 0.8641855068202221\n",
            "\tsilhouette = 0.5772435908622391\n",
            "1) rs = 1: \n",
            "\t num_iterations = 5\n",
            "\thomogeneuty = 0.8639756867013153, completeness = 0.8643954288752762, v-measure = 0.8641855068202221\n",
            "\tsilhouette = 0.5772435908622391\n",
            "2) rs = 2: \n",
            "\t num_iterations = 2\n",
            "\thomogeneuty = 0.8639756867013153, completeness = 0.8643954288752762, v-measure = 0.8641855068202221\n",
            "\tsilhouette = 0.5772435908622391\n",
            "3) rs = 3: \n",
            "\t num_iterations = 5\n",
            "\thomogeneuty = 0.8639756867013153, completeness = 0.8643954288752763, v-measure = 0.8641855068202222\n",
            "\tsilhouette = 0.5772435908622391\n",
            "4) rs = 4: \n",
            "\t num_iterations = 5\n",
            "\thomogeneuty = 0.8639756867013153, completeness = 0.8643954288752762, v-measure = 0.8641855068202221\n",
            "\tsilhouette = 0.5772435908622391\n",
            "5) rs = 5: \n",
            "\t num_iterations = 3\n",
            "\thomogeneuty = 0.8639756867013153, completeness = 0.8643954288752763, v-measure = 0.8641855068202222\n",
            "\tsilhouette = 0.5772435908622391\n",
            "6) rs = 6: \n",
            "\t num_iterations = 3\n",
            "\thomogeneuty = 0.8639756867013153, completeness = 0.8643954288752762, v-measure = 0.8641855068202221\n",
            "\tsilhouette = 0.5772435908622391\n",
            "7) rs = 7: \n",
            "\t num_iterations = 2\n",
            "\thomogeneuty = 0.8639756867013153, completeness = 0.8643954288752762, v-measure = 0.8641855068202221\n",
            "\tsilhouette = 0.5772435908622391\n",
            "8) rs = 8: \n",
            "\t num_iterations = 6\n",
            "\thomogeneuty = 0.8639756867013153, completeness = 0.8643954288752763, v-measure = 0.8641855068202222\n",
            "\tsilhouette = 0.5772435908622391\n",
            "9) rs = 9: \n",
            "\t num_iterations = 4\n",
            "\thomogeneuty = 0.8639756867013153, completeness = 0.8643954288752762, v-measure = 0.8641855068202221\n",
            "\tsilhouette = 0.5772435908622391\n"
          ]
        },
        {
          "output_type": "stream",
          "name": "stderr",
          "text": [
            "/usr/local/lib/python3.9/dist-packages/sklearn/cluster/_kmeans.py:870: FutureWarning: The default value of `n_init` will change from 10 to 'auto' in 1.4. Set the value of `n_init` explicitly to suppress the warning\n",
            "  warnings.warn(\n",
            "/usr/local/lib/python3.9/dist-packages/sklearn/cluster/_kmeans.py:870: FutureWarning: The default value of `n_init` will change from 10 to 'auto' in 1.4. Set the value of `n_init` explicitly to suppress the warning\n",
            "  warnings.warn(\n",
            "/usr/local/lib/python3.9/dist-packages/sklearn/cluster/_kmeans.py:870: FutureWarning: The default value of `n_init` will change from 10 to 'auto' in 1.4. Set the value of `n_init` explicitly to suppress the warning\n",
            "  warnings.warn(\n",
            "/usr/local/lib/python3.9/dist-packages/sklearn/cluster/_kmeans.py:870: FutureWarning: The default value of `n_init` will change from 10 to 'auto' in 1.4. Set the value of `n_init` explicitly to suppress the warning\n",
            "  warnings.warn(\n",
            "/usr/local/lib/python3.9/dist-packages/sklearn/cluster/_kmeans.py:870: FutureWarning: The default value of `n_init` will change from 10 to 'auto' in 1.4. Set the value of `n_init` explicitly to suppress the warning\n",
            "  warnings.warn(\n",
            "/usr/local/lib/python3.9/dist-packages/sklearn/cluster/_kmeans.py:870: FutureWarning: The default value of `n_init` will change from 10 to 'auto' in 1.4. Set the value of `n_init` explicitly to suppress the warning\n",
            "  warnings.warn(\n"
          ]
        },
        {
          "output_type": "stream",
          "name": "stdout",
          "text": [
            "10) rs = 10: \n",
            "\t num_iterations = 2\n",
            "\thomogeneuty = 0.8639756867013153, completeness = 0.8643954288752762, v-measure = 0.8641855068202221\n",
            "\tsilhouette = 0.5772435908622391\n",
            "11) rs = 11: \n",
            "\t num_iterations = 2\n",
            "\thomogeneuty = 0.8639756867013153, completeness = 0.8643954288752763, v-measure = 0.8641855068202222\n",
            "\tsilhouette = 0.5772435908622391\n",
            "12) rs = 12: \n",
            "\t num_iterations = 4\n",
            "\thomogeneuty = 0.8639756867013153, completeness = 0.8643954288752763, v-measure = 0.8641855068202222\n",
            "\tsilhouette = 0.5772435908622391\n",
            "13) rs = 13: \n",
            "\t num_iterations = 5\n",
            "\thomogeneuty = 0.8639756867013151, completeness = 0.8643954288752761, v-measure = 0.8641855068202221\n",
            "\tsilhouette = 0.5772435908622391\n",
            "14) rs = 14: \n",
            "\t num_iterations = 5\n",
            "\thomogeneuty = 0.8639756867013153, completeness = 0.8643954288752762, v-measure = 0.8641855068202221\n",
            "\tsilhouette = 0.5772435908622391\n",
            "15) rs = 15: \n",
            "\t num_iterations = 7\n",
            "\thomogeneuty = 0.8639756867013153, completeness = 0.8643954288752762, v-measure = 0.8641855068202221\n",
            "\tsilhouette = 0.5772435908622391\n"
          ]
        },
        {
          "output_type": "stream",
          "name": "stderr",
          "text": [
            "/usr/local/lib/python3.9/dist-packages/sklearn/cluster/_kmeans.py:870: FutureWarning: The default value of `n_init` will change from 10 to 'auto' in 1.4. Set the value of `n_init` explicitly to suppress the warning\n",
            "  warnings.warn(\n",
            "/usr/local/lib/python3.9/dist-packages/sklearn/cluster/_kmeans.py:870: FutureWarning: The default value of `n_init` will change from 10 to 'auto' in 1.4. Set the value of `n_init` explicitly to suppress the warning\n",
            "  warnings.warn(\n",
            "/usr/local/lib/python3.9/dist-packages/sklearn/cluster/_kmeans.py:870: FutureWarning: The default value of `n_init` will change from 10 to 'auto' in 1.4. Set the value of `n_init` explicitly to suppress the warning\n",
            "  warnings.warn(\n",
            "/usr/local/lib/python3.9/dist-packages/sklearn/cluster/_kmeans.py:870: FutureWarning: The default value of `n_init` will change from 10 to 'auto' in 1.4. Set the value of `n_init` explicitly to suppress the warning\n",
            "  warnings.warn(\n",
            "/usr/local/lib/python3.9/dist-packages/sklearn/cluster/_kmeans.py:870: FutureWarning: The default value of `n_init` will change from 10 to 'auto' in 1.4. Set the value of `n_init` explicitly to suppress the warning\n",
            "  warnings.warn(\n",
            "/usr/local/lib/python3.9/dist-packages/sklearn/cluster/_kmeans.py:870: FutureWarning: The default value of `n_init` will change from 10 to 'auto' in 1.4. Set the value of `n_init` explicitly to suppress the warning\n",
            "  warnings.warn(\n"
          ]
        },
        {
          "output_type": "stream",
          "name": "stdout",
          "text": [
            "16) rs = 16: \n",
            "\t num_iterations = 3\n",
            "\thomogeneuty = 0.8639756867013153, completeness = 0.8643954288752762, v-measure = 0.8641855068202221\n",
            "\tsilhouette = 0.5772435908622391\n",
            "17) rs = 17: \n",
            "\t num_iterations = 3\n",
            "\thomogeneuty = 0.8639756867013153, completeness = 0.8643954288752762, v-measure = 0.8641855068202221\n",
            "\tsilhouette = 0.5772435908622391\n",
            "18) rs = 18: \n",
            "\t num_iterations = 3\n",
            "\thomogeneuty = 0.8639756867013153, completeness = 0.8643954288752763, v-measure = 0.8641855068202222\n",
            "\tsilhouette = 0.5772435908622391\n"
          ]
        },
        {
          "output_type": "stream",
          "name": "stderr",
          "text": [
            "/usr/local/lib/python3.9/dist-packages/sklearn/cluster/_kmeans.py:870: FutureWarning: The default value of `n_init` will change from 10 to 'auto' in 1.4. Set the value of `n_init` explicitly to suppress the warning\n",
            "  warnings.warn(\n",
            "/usr/local/lib/python3.9/dist-packages/sklearn/cluster/_kmeans.py:870: FutureWarning: The default value of `n_init` will change from 10 to 'auto' in 1.4. Set the value of `n_init` explicitly to suppress the warning\n",
            "  warnings.warn(\n",
            "/usr/local/lib/python3.9/dist-packages/sklearn/cluster/_kmeans.py:870: FutureWarning: The default value of `n_init` will change from 10 to 'auto' in 1.4. Set the value of `n_init` explicitly to suppress the warning\n",
            "  warnings.warn(\n"
          ]
        },
        {
          "output_type": "stream",
          "name": "stdout",
          "text": [
            "19) rs = 19: \n",
            "\t num_iterations = 6\n",
            "\thomogeneuty = 0.8639756867013151, completeness = 0.8643954288752761, v-measure = 0.8641855068202221\n",
            "\tsilhouette = 0.5772435908622391\n"
          ]
        }
      ]
    },
    {
      "cell_type": "code",
      "source": [
        "num_k = [i for i in range(2, 21)]\n",
        "best_km_sv = KMeans()\n",
        "best_km_unsv = KMeans()\n",
        "best_v = 0\n",
        "best_s = 0\n",
        "for i, k in enumerate(num_k):\n",
        "  kmeans = KMeans(n_clusters=k, random_state=42)\n",
        "  y_pred = kmeans.fit_predict(X_scaled)\n",
        "  h, c, v = homogeneity_completeness_v_measure(y, y_pred)\n",
        "  s = silhouette_score(X_scaled, y_pred)\n",
        "  if i==0:\n",
        "    best_km_sv = best_km_unsv = kmeans\n",
        "    best_v = v\n",
        "    best_s = s\n",
        "  else:\n",
        "    if v > best_v:\n",
        "      best_km_sv = kmeans\n",
        "      best_v = v\n",
        "    if s > best_s:\n",
        "      best_km_unsv = kmeans\n",
        "      best_s = s\n",
        "\n",
        "print(f\"Best K according to v-measure: \")\n",
        "print(f\"\\tk={best_km_sv.cluster_centers_.shape[0]}, num_iterations= {best_km_sv.n_iter_}\")\n",
        "print(f\"\\tv-measure = {best_v}\\n\")\n",
        "\n",
        "print(f\"Best K according to silhouette: \")\n",
        "print(f\"\\tk={best_km_unsv.cluster_centers_.shape[0]}, num_iterations= {best_km_unsv.n_iter_}\")\n",
        "print(f\"\\tsilhouette = {best_s}\\n\")"
      ],
      "metadata": {
        "colab": {
          "base_uri": "https://localhost:8080/"
        },
        "id": "SCjtCnI2iuiY",
        "outputId": "d255a369-04d7-460a-a6a9-c358bc6c7826"
      },
      "execution_count": null,
      "outputs": [
        {
          "output_type": "stream",
          "name": "stderr",
          "text": [
            "/usr/local/lib/python3.9/dist-packages/sklearn/cluster/_kmeans.py:870: FutureWarning: The default value of `n_init` will change from 10 to 'auto' in 1.4. Set the value of `n_init` explicitly to suppress the warning\n",
            "  warnings.warn(\n",
            "/usr/local/lib/python3.9/dist-packages/sklearn/cluster/_kmeans.py:870: FutureWarning: The default value of `n_init` will change from 10 to 'auto' in 1.4. Set the value of `n_init` explicitly to suppress the warning\n",
            "  warnings.warn(\n",
            "/usr/local/lib/python3.9/dist-packages/sklearn/cluster/_kmeans.py:870: FutureWarning: The default value of `n_init` will change from 10 to 'auto' in 1.4. Set the value of `n_init` explicitly to suppress the warning\n",
            "  warnings.warn(\n",
            "/usr/local/lib/python3.9/dist-packages/sklearn/cluster/_kmeans.py:870: FutureWarning: The default value of `n_init` will change from 10 to 'auto' in 1.4. Set the value of `n_init` explicitly to suppress the warning\n",
            "  warnings.warn(\n",
            "/usr/local/lib/python3.9/dist-packages/sklearn/cluster/_kmeans.py:870: FutureWarning: The default value of `n_init` will change from 10 to 'auto' in 1.4. Set the value of `n_init` explicitly to suppress the warning\n",
            "  warnings.warn(\n",
            "/usr/local/lib/python3.9/dist-packages/sklearn/cluster/_kmeans.py:870: FutureWarning: The default value of `n_init` will change from 10 to 'auto' in 1.4. Set the value of `n_init` explicitly to suppress the warning\n",
            "  warnings.warn(\n",
            "/usr/local/lib/python3.9/dist-packages/sklearn/cluster/_kmeans.py:870: FutureWarning: The default value of `n_init` will change from 10 to 'auto' in 1.4. Set the value of `n_init` explicitly to suppress the warning\n",
            "  warnings.warn(\n",
            "/usr/local/lib/python3.9/dist-packages/sklearn/cluster/_kmeans.py:870: FutureWarning: The default value of `n_init` will change from 10 to 'auto' in 1.4. Set the value of `n_init` explicitly to suppress the warning\n",
            "  warnings.warn(\n",
            "/usr/local/lib/python3.9/dist-packages/sklearn/cluster/_kmeans.py:870: FutureWarning: The default value of `n_init` will change from 10 to 'auto' in 1.4. Set the value of `n_init` explicitly to suppress the warning\n",
            "  warnings.warn(\n",
            "/usr/local/lib/python3.9/dist-packages/sklearn/cluster/_kmeans.py:870: FutureWarning: The default value of `n_init` will change from 10 to 'auto' in 1.4. Set the value of `n_init` explicitly to suppress the warning\n",
            "  warnings.warn(\n",
            "/usr/local/lib/python3.9/dist-packages/sklearn/cluster/_kmeans.py:870: FutureWarning: The default value of `n_init` will change from 10 to 'auto' in 1.4. Set the value of `n_init` explicitly to suppress the warning\n",
            "  warnings.warn(\n",
            "/usr/local/lib/python3.9/dist-packages/sklearn/cluster/_kmeans.py:870: FutureWarning: The default value of `n_init` will change from 10 to 'auto' in 1.4. Set the value of `n_init` explicitly to suppress the warning\n",
            "  warnings.warn(\n",
            "/usr/local/lib/python3.9/dist-packages/sklearn/cluster/_kmeans.py:870: FutureWarning: The default value of `n_init` will change from 10 to 'auto' in 1.4. Set the value of `n_init` explicitly to suppress the warning\n",
            "  warnings.warn(\n",
            "/usr/local/lib/python3.9/dist-packages/sklearn/cluster/_kmeans.py:870: FutureWarning: The default value of `n_init` will change from 10 to 'auto' in 1.4. Set the value of `n_init` explicitly to suppress the warning\n",
            "  warnings.warn(\n",
            "/usr/local/lib/python3.9/dist-packages/sklearn/cluster/_kmeans.py:870: FutureWarning: The default value of `n_init` will change from 10 to 'auto' in 1.4. Set the value of `n_init` explicitly to suppress the warning\n",
            "  warnings.warn(\n",
            "/usr/local/lib/python3.9/dist-packages/sklearn/cluster/_kmeans.py:870: FutureWarning: The default value of `n_init` will change from 10 to 'auto' in 1.4. Set the value of `n_init` explicitly to suppress the warning\n",
            "  warnings.warn(\n",
            "/usr/local/lib/python3.9/dist-packages/sklearn/cluster/_kmeans.py:870: FutureWarning: The default value of `n_init` will change from 10 to 'auto' in 1.4. Set the value of `n_init` explicitly to suppress the warning\n",
            "  warnings.warn(\n",
            "/usr/local/lib/python3.9/dist-packages/sklearn/cluster/_kmeans.py:870: FutureWarning: The default value of `n_init` will change from 10 to 'auto' in 1.4. Set the value of `n_init` explicitly to suppress the warning\n",
            "  warnings.warn(\n",
            "/usr/local/lib/python3.9/dist-packages/sklearn/cluster/_kmeans.py:870: FutureWarning: The default value of `n_init` will change from 10 to 'auto' in 1.4. Set the value of `n_init` explicitly to suppress the warning\n",
            "  warnings.warn(\n"
          ]
        },
        {
          "output_type": "stream",
          "name": "stdout",
          "text": [
            "Best K according to v-measure: \n",
            "\tk=3, num_iterations= 4\n",
            "\tv-measure = 0.8641855068202221\n",
            "\n",
            "Best K according to silhouette: \n",
            "\tk=2, num_iterations= 5\n",
            "\tsilhouette = 0.6836700722159255\n",
            "\n"
          ]
        }
      ]
    },
    {
      "cell_type": "markdown",
      "source": [
        "PCA\n"
      ],
      "metadata": {
        "id": "HGBGfFxOkyTG"
      }
    },
    {
      "cell_type": "code",
      "source": [
        "from sklearn.decomposition import PCA\n",
        "import numpy as np"
      ],
      "metadata": {
        "id": "HRKqSkg4kxds"
      },
      "execution_count": null,
      "outputs": []
    },
    {
      "cell_type": "code",
      "source": [
        "reduced_data = PCA(n_components=2).fit_transform(iris.data)\n",
        "kmeans.fit(reduced_data)\n",
        "\n",
        "# Step size of the mesh. Decrease to increase the quality of the VQ.\n",
        "h = 0.02 # point in the mesh [x_min, x_max]x[y_min, y_max].\n",
        "\n",
        "# Plot the decision boundary. For that, we will assign a color to each\n",
        "x_min, x_max = reduced_data[:, 0].min() - 1, reduced_data[:, 0].max() + 1\n",
        "y_min, y_max = reduced_data[:, 1].min() - 1, reduced_data[:, 1].max() + 1\n",
        "xx, yy = np.meshgrid(np.arange(x_min, x_max, h), np.arange(y_min, y_max, h))\n"
      ],
      "metadata": {
        "colab": {
          "base_uri": "https://localhost:8080/"
        },
        "id": "9TrJkbF_iulO",
        "outputId": "d8aa0a90-e15f-49d2-afa5-8d4c1439c406"
      },
      "execution_count": null,
      "outputs": [
        {
          "output_type": "stream",
          "name": "stderr",
          "text": [
            "/usr/local/lib/python3.9/dist-packages/sklearn/cluster/_kmeans.py:870: FutureWarning: The default value of `n_init` will change from 10 to 'auto' in 1.4. Set the value of `n_init` explicitly to suppress the warning\n",
            "  warnings.warn(\n"
          ]
        }
      ]
    },
    {
      "cell_type": "code",
      "source": [
        "# Obtain labels for each point in mesh. Use last trained model.\n",
        "Z = kmeans.predict(np.c_[xx.ravel(), yy.ravel()])\n",
        "\n",
        "# Put the result into a color plot\n",
        "Z = Z.reshape(xx.shape)\n",
        "\n",
        "sns.set()\n",
        "plt.figure(1)\n",
        "plt.clf()\n",
        "plt.imshow(\n",
        "  Z,\n",
        "  interpolation=\"nearest\",\n",
        "  extent=(xx.min(), xx.max(), yy.min(), yy.max()),\n",
        "  cmap='Set2',\n",
        "  aspect=\"auto\",\n",
        "  origin=\"lower\",\n",
        ")\n",
        "\n",
        "plt.scatter(reduced_data[:, 0], reduced_data[:, 1], c=iris.target, cmap='Pastel2')\n",
        "\n",
        "# Plot the centroids as a white X\n",
        "centroids = kmeans.cluster_centers_\n",
        "\n",
        "plt.scatter(\n",
        "  centroids[:, 0],\n",
        "  centroids[:, 1],\n",
        "  marker=\"x\",\n",
        "  s=169,\n",
        "  linewidths=3,\n",
        "  zorder=10,\n",
        ")\n",
        "\n",
        "plt.title(\n",
        "\"K-means clustering on the digits dataset (PCA-reduced data)\\n\"\n",
        "\"Centroids are marked with white cross\"\n",
        ")\n",
        "plt.xlim(x_min, x_max)\n",
        "plt.ylim(y_min, y_max)\n",
        "plt.xticks(())\n",
        "plt.yticks(())\n",
        "plt.show()\n"
      ],
      "metadata": {
        "colab": {
          "base_uri": "https://localhost:8080/",
          "height": 279
        },
        "id": "lvuu4hmulQ1q",
        "outputId": "3ffebe39-013d-4152-c54b-c07b62954aa3"
      },
      "execution_count": null,
      "outputs": [
        {
          "output_type": "display_data",
          "data": {
            "text/plain": [
              "<Figure size 432x288 with 1 Axes>"
            ],
            "image/png": "[encoded data removed]"
          },
          "metadata": {}
        }
      ]
    }
  ]
}