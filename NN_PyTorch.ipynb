{
  "nbformat": 4,
  "nbformat_minor": 0,
  "metadata": {
    "colab": {
      "provenance": [],
      "authorship_tag": "ABX9TyMa2kNz719dcq/kbNWbzn1c"
    },
    "kernelspec": {
      "name": "python3",
      "display_name": "Python 3"
    },
    "language_info": {
      "name": "python"
    },
    "accelerator": "GPU",
    "gpuClass": "standard"
  },
  "cells": [
    {
      "cell_type": "markdown",
      "source": [
        "**BUILD THE NEURAL NETWORK**\n",
        "\n",
        "Neural networks comprise of layers/modules that perform operations on data. The torch.nn namespace provides all the building blocks you need to build your own neural network. Every module in PyTorch subclasses the nn.Module. A neural network is a module itself that consists of other modules (layers). This nested structure allows for building and managing complex architectures easily."
      ],
      "metadata": {
        "id": "1YWmDIEKzify"
      }
    },
    {
      "cell_type": "code",
      "execution_count": 6,
      "metadata": {
        "id": "xUvnNGU_zOf5"
      },
      "outputs": [],
      "source": [
        "import os\n",
        "import torch\n",
        "from torch import nn\n",
        "from torch.utils.data import DataLoader\n",
        "from torchvision import datasets, transforms"
      ]
    },
    {
      "cell_type": "markdown",
      "source": [
        "**Get device for training** (generally GPU)"
      ],
      "metadata": {
        "id": "raCjjLrmz93E"
      }
    },
    {
      "cell_type": "code",
      "source": [
        "device = (\n",
        "    \"cuda\"\n",
        "    if torch.cuda.is_available()\n",
        "    else \"mps\"\n",
        "    if torch.backends.mps.is_available()\n",
        "    else \"cpu\"\n",
        ")\n",
        "print(f\"using {device} device\")"
      ],
      "metadata": {
        "colab": {
          "base_uri": "https://localhost:8080/"
        },
        "id": "n5ziBV7tz821",
        "outputId": "998ff536-3351-4aab-f532-dce06c40e245"
      },
      "execution_count": 7,
      "outputs": [
        {
          "output_type": "stream",
          "name": "stdout",
          "text": [
            "using cuda device\n"
          ]
        }
      ]
    },
    {
      "cell_type": "markdown",
      "source": [
        "**Define the class**: subclass the nn.Module and initilize le nn layers in init. Every nn.Module subclass implements the operations on input data in the forward method."
      ],
      "metadata": {
        "id": "7jTnNKlO0faM"
      }
    },
    {
      "cell_type": "markdown",
      "source": [
        "This is a simple Multi-Layer Perceptron (MLP) architecture with three layers: an input layer, a hidden layer, and an output layer. The input layer has 784 nodes (which comes from flattening the 28x28 input image), while the output layer has 10 nodes (for classification into 10 classes). The hidden layer consists of 512 nodes, and ReLU activation functions are used between every pair of layers except the output layer."
      ],
      "metadata": {
        "id": "UHtqq-9T28qp"
      }
    },
    {
      "cell_type": "code",
      "execution_count": 8,
      "metadata": {
        "id": "JGmuYCC_zkGv"
      },
      "outputs": [],
      "source": [
        "class NeuralNetwork(nn.Module):\n",
        "    def __init__(self):\n",
        "        super().__init__()\n",
        "        self.flatten = nn.Flatten() # used to reshape the input data\n",
        "      # core of the nn as a sequential stack of fully connected layers interleaved with non-linear activations\n",
        "      # this architecture has 3 layers: 784-512-512-10 network, where the input is flattened (28*28) and the output is 10 classes\n",
        "        self.linear_relu_stack = nn.Sequential(\n",
        "            nn.Linear(28*28, 512),\n",
        "            nn.ReLU(),\n",
        "            nn.Linear(512, 512),\n",
        "            nn.ReLU(),\n",
        "            nn.Linear(512, 10),\n",
        "        )\n",
        "\n",
        "    def forward(self, x):\n",
        "        x = self.flatten(x)\n",
        "        logits = self.linear_relu_stack(x)\n",
        "        return logits"
      ]
    },
    {
      "cell_type": "markdown",
      "source": [
        "Create an instance of NN, move it to device and print the structure"
      ],
      "metadata": {
        "id": "kjnOM-yR3MuU"
      }
    },
    {
      "cell_type": "code",
      "source": [
        "model = NeuralNetwork().to(device)\n",
        "print(model)"
      ],
      "metadata": {
        "colab": {
          "base_uri": "https://localhost:8080/"
        },
        "id": "LeKxB4aX3MS1",
        "outputId": "d06d89af-9d62-4955-e458-35d4af308dc7"
      },
      "execution_count": 9,
      "outputs": [
        {
          "output_type": "stream",
          "name": "stdout",
          "text": [
            "NeuralNetwork(\n",
            "  (flatten): Flatten(start_dim=1, end_dim=-1)\n",
            "  (linear_relu_stack): Sequential(\n",
            "    (0): Linear(in_features=784, out_features=512, bias=True)\n",
            "    (1): ReLU()\n",
            "    (2): Linear(in_features=512, out_features=512, bias=True)\n",
            "    (3): ReLU()\n",
            "    (4): Linear(in_features=512, out_features=10, bias=True)\n",
            "  )\n",
            ")\n"
          ]
        }
      ]
    },
    {
      "cell_type": "markdown",
      "metadata": {
        "id": "XghqxQodzkGz"
      },
      "source": [
        "To use the model, we pass it the input data. This executes the model's ``forward``,\n",
        "along with some [background operations](https://github.com/pytorch/pytorch/blob/270111b7b611d174967ed204776985cefca9c144/torch/nn/modules/module.py#L866).\n",
        "Do not call ``model.forward()`` directly!\n",
        "\n",
        "Calling the model on the input returns a 2-dimensional tensor with dim=0 corresponding to each output of 10 raw predicted values for each class, and dim=1 corresponding to the individual values of each output.\n",
        "We get the prediction probabilities by passing it through an instance of the ``nn.Softmax`` module.\n",
        "\n"
      ]
    },
    {
      "cell_type": "code",
      "source": [
        "X = torch.rand(1, 28, 28, device = device)\n",
        "logits = model(X)\n",
        "pred_probab = nn.Softmax(dim=1)(logits)\n",
        "y_pred = pred_probab.argmax(1)  # identifies the most likely class as the one with highest predicted probability.\n",
        "print(f\"predicted class: {y_pred}\")"
      ],
      "metadata": {
        "colab": {
          "base_uri": "https://localhost:8080/"
        },
        "id": "iVFG2I1d4AP0",
        "outputId": "66f21d7a-a67c-4c4d-a2e0-8ad9d1cb1981"
      },
      "execution_count": 10,
      "outputs": [
        {
          "output_type": "stream",
          "name": "stdout",
          "text": [
            "predicted class: tensor([5], device='cuda:0')\n"
          ]
        }
      ]
    },
    {
      "cell_type": "markdown",
      "source": [
        "**MODEL LAYERS**"
      ],
      "metadata": {
        "id": "nM822A1n5adA"
      }
    },
    {
      "cell_type": "code",
      "source": [
        "# take a sample minibatch of 3 images of size 28x28\n",
        "input_img = torch.rand(3, 28, 28)\n",
        "print(input_img.size())"
      ],
      "metadata": {
        "colab": {
          "base_uri": "https://localhost:8080/"
        },
        "id": "zkj0poZR5fqA",
        "outputId": "40fe5970-daf0-4e89-b4c5-f78ce90cda0d"
      },
      "execution_count": 11,
      "outputs": [
        {
          "output_type": "stream",
          "name": "stdout",
          "text": [
            "torch.Size([3, 28, 28])\n"
          ]
        }
      ]
    },
    {
      "cell_type": "markdown",
      "source": [
        "**nn.Flatten** layer to convert each 2D 28x28 image to a contiguous array of 784 pixel values"
      ],
      "metadata": {
        "id": "nI5GQXpj5_7L"
      }
    },
    {
      "cell_type": "code",
      "source": [
        "flatten = nn.Flatten()\n",
        "flat_img = flatten(input_img)\n",
        "print(flat_img.size())"
      ],
      "metadata": {
        "colab": {
          "base_uri": "https://localhost:8080/"
        },
        "id": "qz2X58Xk6Hr3",
        "outputId": "d7dcb29f-220f-4752-8ba0-2fdf3f291f05"
      },
      "execution_count": 12,
      "outputs": [
        {
          "output_type": "stream",
          "name": "stdout",
          "text": [
            "torch.Size([3, 784])\n"
          ]
        }
      ]
    },
    {
      "cell_type": "markdown",
      "source": [
        "**nn.Linear**: applies a linear transformation on the input using its stored weights and biases"
      ],
      "metadata": {
        "id": "9F7n5cQH6Vt_"
      }
    },
    {
      "cell_type": "code",
      "source": [
        "layer1 = nn.Linear(in_features=28*28, out_features=20)\n",
        "hidden1 = layer1(flat_img)\n",
        "hidden1.size()"
      ],
      "metadata": {
        "colab": {
          "base_uri": "https://localhost:8080/"
        },
        "id": "tUXNe1ib6d2X",
        "outputId": "d6a64b8b-adb8-4a64-eabd-0d52f40bae8e"
      },
      "execution_count": 13,
      "outputs": [
        {
          "output_type": "execute_result",
          "data": {
            "text/plain": [
              "torch.Size([3, 20])"
            ]
          },
          "metadata": {},
          "execution_count": 13
        }
      ]
    },
    {
      "cell_type": "markdown",
      "metadata": {
        "id": "BrbrY-iGzkG4"
      },
      "source": [
        "**nn.ReLU**\n",
        "\n",
        "Non-linear activations are what create the complex mappings between the model's inputs and outputs.\n",
        "They are applied after linear transformations to introduce *nonlinearity*, helping neural networks\n",
        "learn a wide variety of phenomena.\n",
        "\n",
        "In this model, we use [nn.ReLU](https://pytorch.org/docs/stable/generated/torch.nn.ReLU.html) between our\n",
        "linear layers, but there's other activations to introduce non-linearity in your model.\n",
        "\n"
      ]
    },
    {
      "cell_type": "code",
      "source": [
        "print(f\"Before ReLU: {hidden1}\\n\\n\")\n",
        "hidden1 = nn.ReLU()(hidden1)\n",
        "print(f\"After ReLU: {hidden1}\")"
      ],
      "metadata": {
        "colab": {
          "base_uri": "https://localhost:8080/"
        },
        "id": "4rsN1RgM61hc",
        "outputId": "8d1494ce-970f-4e24-bc74-bf7087b26ac1"
      },
      "execution_count": 14,
      "outputs": [
        {
          "output_type": "stream",
          "name": "stdout",
          "text": [
            "Before ReLU: tensor([[-0.1073,  0.0693,  0.4008, -0.1351,  0.0533, -0.2445,  0.0142,  0.2450,\n",
            "          0.0470, -0.3732,  0.2360,  0.6228, -0.1413, -0.0463,  0.5008, -0.4194,\n",
            "         -0.4302, -0.5236,  0.3025, -0.0974],\n",
            "        [-0.1589, -0.2283,  0.3638, -0.0638,  0.0780,  0.0180, -0.0457, -0.1702,\n",
            "          0.1087, -0.2787,  0.3073,  0.6033, -0.0831,  0.2223,  0.2262, -0.2378,\n",
            "         -0.0220, -0.5302,  0.2020, -0.0533],\n",
            "        [ 0.0216,  0.1599,  0.1937,  0.0721,  0.0253, -0.0800, -0.1953,  0.3428,\n",
            "          0.2066,  0.0452,  0.2235,  0.6604, -0.0452, -0.0281,  0.4596,  0.1279,\n",
            "         -0.1056, -0.2983,  0.6146,  0.2014]], grad_fn=<AddmmBackward0>)\n",
            "\n",
            "\n",
            "After ReLU: tensor([[0.0000, 0.0693, 0.4008, 0.0000, 0.0533, 0.0000, 0.0142, 0.2450, 0.0470,\n",
            "         0.0000, 0.2360, 0.6228, 0.0000, 0.0000, 0.5008, 0.0000, 0.0000, 0.0000,\n",
            "         0.3025, 0.0000],\n",
            "        [0.0000, 0.0000, 0.3638, 0.0000, 0.0780, 0.0180, 0.0000, 0.0000, 0.1087,\n",
            "         0.0000, 0.3073, 0.6033, 0.0000, 0.2223, 0.2262, 0.0000, 0.0000, 0.0000,\n",
            "         0.2020, 0.0000],\n",
            "        [0.0216, 0.1599, 0.1937, 0.0721, 0.0253, 0.0000, 0.0000, 0.3428, 0.2066,\n",
            "         0.0452, 0.2235, 0.6604, 0.0000, 0.0000, 0.4596, 0.1279, 0.0000, 0.0000,\n",
            "         0.6146, 0.2014]], grad_fn=<ReluBackward0>)\n"
          ]
        }
      ]
    },
    {
      "cell_type": "markdown",
      "metadata": {
        "id": "UDrb692kzkG6"
      },
      "source": [
        "**nn.Sequential**\n",
        "\n",
        "[nn.Sequential](https://pytorch.org/docs/stable/generated/torch.nn.Sequential.html) is an ordered\n",
        "container of modules. The data is passed through all the modules in the same order as defined. You can use\n",
        "sequential containers to put together a quick network like ``seq_modules``.\n",
        "\n"
      ]
    },
    {
      "cell_type": "code",
      "source": [
        "seq_modules = nn.Sequential(\n",
        "    flatten,\n",
        "    layer1,\n",
        "    nn.ReLU(),\n",
        "    nn.Linear(20, 10)\n",
        ")\n",
        "input_image = torch.rand(3,28,28)\n",
        "logits = seq_modules(input_image)"
      ],
      "metadata": {
        "id": "MwhOrnEs7B-3"
      },
      "execution_count": 15,
      "outputs": []
    },
    {
      "cell_type": "markdown",
      "metadata": {
        "id": "nIcImeKezkG7"
      },
      "source": [
        "**nn.Softmax**\n",
        "\n",
        "The last linear layer of the neural network returns `logits` - raw values in [-\\infty, \\infty] - which are passed to the\n",
        "[nn.Softmax](https://pytorch.org/docs/stable/generated/torch.nn.Softmax.html) module. The logits are scaled to values\n",
        "[0, 1] representing the model's predicted probabilities for each class. ``dim`` parameter indicates the dimension along\n",
        "which the values must sum to 1.\n",
        "\n"
      ]
    },
    {
      "cell_type": "code",
      "source": [
        "softmax = nn.Softmax(dim=1)\n",
        "pred_probab = softmax(logits)"
      ],
      "metadata": {
        "id": "WgyFc7EE7I4Q"
      },
      "execution_count": 16,
      "outputs": []
    },
    {
      "cell_type": "markdown",
      "source": [
        "**Model parameters**\n",
        "\n",
        "Many layers inside a neural network are *parameterized*, i.e. have associated weights\n",
        "and biases that are optimized during training. Subclassing ``nn.Module`` automatically\n",
        "tracks all fields defined inside your model object, and makes all parameters\n",
        "accessible using your model's ``parameters()`` or ``named_parameters()`` methods.\n",
        "\n",
        "In this example, we iterate over each parameter, and print its size and a preview of its values."
      ],
      "metadata": {
        "id": "bjD6ouc_7L_C"
      }
    },
    {
      "cell_type": "code",
      "source": [
        "print(f\"Model structure: {model}\\n\\n\")\n",
        "\n",
        "for name, param in model.named_parameters():\n",
        "    print(f\"Layer: {name} | Size: {param.size()} | Values : {param[:2]} \\n\")"
      ],
      "metadata": {
        "colab": {
          "base_uri": "https://localhost:8080/"
        },
        "id": "hi-54b3m7Pa4",
        "outputId": "aab4aa07-e5e9-4b0f-84d3-723d557ae4a3"
      },
      "execution_count": 17,
      "outputs": [
        {
          "output_type": "stream",
          "name": "stdout",
          "text": [
            "Model structure: NeuralNetwork(\n",
            "  (flatten): Flatten(start_dim=1, end_dim=-1)\n",
            "  (linear_relu_stack): Sequential(\n",
            "    (0): Linear(in_features=784, out_features=512, bias=True)\n",
            "    (1): ReLU()\n",
            "    (2): Linear(in_features=512, out_features=512, bias=True)\n",
            "    (3): ReLU()\n",
            "    (4): Linear(in_features=512, out_features=10, bias=True)\n",
            "  )\n",
            ")\n",
            "\n",
            "\n",
            "Layer: linear_relu_stack.0.weight | Size: torch.Size([512, 784]) | Values : tensor([[-0.0293,  0.0143,  0.0289,  ..., -0.0276, -0.0263,  0.0241],\n",
            "        [-0.0117,  0.0029,  0.0268,  ...,  0.0169, -0.0114, -0.0277]],\n",
            "       device='cuda:0', grad_fn=<SliceBackward0>) \n",
            "\n",
            "Layer: linear_relu_stack.0.bias | Size: torch.Size([512]) | Values : tensor([-0.0163,  0.0083], device='cuda:0', grad_fn=<SliceBackward0>) \n",
            "\n",
            "Layer: linear_relu_stack.2.weight | Size: torch.Size([512, 512]) | Values : tensor([[-0.0162,  0.0338,  0.0027,  ..., -0.0111, -0.0118, -0.0169],\n",
            "        [ 0.0004, -0.0077, -0.0248,  ...,  0.0044, -0.0435,  0.0331]],\n",
            "       device='cuda:0', grad_fn=<SliceBackward0>) \n",
            "\n",
            "Layer: linear_relu_stack.2.bias | Size: torch.Size([512]) | Values : tensor([ 0.0281, -0.0179], device='cuda:0', grad_fn=<SliceBackward0>) \n",
            "\n",
            "Layer: linear_relu_stack.4.weight | Size: torch.Size([10, 512]) | Values : tensor([[-0.0058, -0.0232, -0.0210,  ..., -0.0021,  0.0165, -0.0315],\n",
            "        [ 0.0026,  0.0298, -0.0004,  ..., -0.0402, -0.0124, -0.0033]],\n",
            "       device='cuda:0', grad_fn=<SliceBackward0>) \n",
            "\n",
            "Layer: linear_relu_stack.4.bias | Size: torch.Size([10]) | Values : tensor([ 0.0217, -0.0102], device='cuda:0', grad_fn=<SliceBackward0>) \n",
            "\n"
          ]
        }
      ]
    }
  ]
}