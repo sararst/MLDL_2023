{
  "nbformat": 4,
  "nbformat_minor": 0,
  "metadata": {
    "colab": {
      "provenance": [],
      "authorship_tag": "ABX9TyM580Wp81CW/LNRXzLldgo/"
    },
    "kernelspec": {
      "name": "python3",
      "display_name": "Python 3"
    },
    "language_info": {
      "name": "python"
    },
    "accelerator": "GPU",
    "gpuClass": "standard"
  },
  "cells": [
    {
      "cell_type": "code",
      "source": [
        "import numpy as np\n",
        "import pandas as pd\n",
        "import matplotlib.pyplot as plt\n",
        "\n",
        "import torch\n",
        "import torchvision.models as models\n",
        "import torch.nn as nn\n",
        "import torchvision\n",
        "from torchvision import datasets\n",
        "from torchvision import transforms as T\n",
        "import torch.nn.functional as F\n",
        "from torch.utils.data.sampler import SubsetRandomSampler\n",
        "import tqdm\n",
        "\n",
        "# device configuration\n",
        "device = torch.device('cuda' if torch.cuda.is_available() else 'cpu')"
      ],
      "metadata": {
        "id": "eMfsK017o2om"
      },
      "execution_count": 13,
      "outputs": []
    },
    {
      "cell_type": "code",
      "source": [
        "device"
      ],
      "metadata": {
        "colab": {
          "base_uri": "https://localhost:8080/"
        },
        "id": "phP0IIbvjDet",
        "outputId": "080e3a4d-4210-46dc-d470-97805e7150e3"
      },
      "execution_count": 14,
      "outputs": [
        {
          "output_type": "execute_result",
          "data": {
            "text/plain": [
              "device(type='cuda')"
            ]
          },
          "metadata": {},
          "execution_count": 14
        }
      ]
    },
    {
      "cell_type": "code",
      "execution_count": 15,
      "metadata": {
        "colab": {
          "base_uri": "https://localhost:8080/"
        },
        "id": "KV7j6dgcoMVx",
        "outputId": "d00d71ea-6ec2-4925-8e9b-85f886e8e6f7"
      },
      "outputs": [
        {
          "output_type": "stream",
          "name": "stdout",
          "text": [
            "ResNet(\n",
            "  (conv1): Conv2d(3, 64, kernel_size=(7, 7), stride=(2, 2), padding=(3, 3), bias=False)\n",
            "  (bn1): BatchNorm2d(64, eps=1e-05, momentum=0.1, affine=True, track_running_stats=True)\n",
            "  (relu): ReLU(inplace=True)\n",
            "  (maxpool): MaxPool2d(kernel_size=3, stride=2, padding=1, dilation=1, ceil_mode=False)\n",
            "  (layer1): Sequential(\n",
            "    (0): BasicBlock(\n",
            "      (conv1): Conv2d(64, 64, kernel_size=(3, 3), stride=(1, 1), padding=(1, 1), bias=False)\n",
            "      (bn1): BatchNorm2d(64, eps=1e-05, momentum=0.1, affine=True, track_running_stats=True)\n",
            "      (relu): ReLU(inplace=True)\n",
            "      (conv2): Conv2d(64, 64, kernel_size=(3, 3), stride=(1, 1), padding=(1, 1), bias=False)\n",
            "      (bn2): BatchNorm2d(64, eps=1e-05, momentum=0.1, affine=True, track_running_stats=True)\n",
            "    )\n",
            "    (1): BasicBlock(\n",
            "      (conv1): Conv2d(64, 64, kernel_size=(3, 3), stride=(1, 1), padding=(1, 1), bias=False)\n",
            "      (bn1): BatchNorm2d(64, eps=1e-05, momentum=0.1, affine=True, track_running_stats=True)\n",
            "      (relu): ReLU(inplace=True)\n",
            "      (conv2): Conv2d(64, 64, kernel_size=(3, 3), stride=(1, 1), padding=(1, 1), bias=False)\n",
            "      (bn2): BatchNorm2d(64, eps=1e-05, momentum=0.1, affine=True, track_running_stats=True)\n",
            "    )\n",
            "  )\n",
            "  (layer2): Sequential(\n",
            "    (0): BasicBlock(\n",
            "      (conv1): Conv2d(64, 128, kernel_size=(3, 3), stride=(2, 2), padding=(1, 1), bias=False)\n",
            "      (bn1): BatchNorm2d(128, eps=1e-05, momentum=0.1, affine=True, track_running_stats=True)\n",
            "      (relu): ReLU(inplace=True)\n",
            "      (conv2): Conv2d(128, 128, kernel_size=(3, 3), stride=(1, 1), padding=(1, 1), bias=False)\n",
            "      (bn2): BatchNorm2d(128, eps=1e-05, momentum=0.1, affine=True, track_running_stats=True)\n",
            "      (downsample): Sequential(\n",
            "        (0): Conv2d(64, 128, kernel_size=(1, 1), stride=(2, 2), bias=False)\n",
            "        (1): BatchNorm2d(128, eps=1e-05, momentum=0.1, affine=True, track_running_stats=True)\n",
            "      )\n",
            "    )\n",
            "    (1): BasicBlock(\n",
            "      (conv1): Conv2d(128, 128, kernel_size=(3, 3), stride=(1, 1), padding=(1, 1), bias=False)\n",
            "      (bn1): BatchNorm2d(128, eps=1e-05, momentum=0.1, affine=True, track_running_stats=True)\n",
            "      (relu): ReLU(inplace=True)\n",
            "      (conv2): Conv2d(128, 128, kernel_size=(3, 3), stride=(1, 1), padding=(1, 1), bias=False)\n",
            "      (bn2): BatchNorm2d(128, eps=1e-05, momentum=0.1, affine=True, track_running_stats=True)\n",
            "    )\n",
            "  )\n",
            "  (layer3): Sequential(\n",
            "    (0): BasicBlock(\n",
            "      (conv1): Conv2d(128, 256, kernel_size=(3, 3), stride=(2, 2), padding=(1, 1), bias=False)\n",
            "      (bn1): BatchNorm2d(256, eps=1e-05, momentum=0.1, affine=True, track_running_stats=True)\n",
            "      (relu): ReLU(inplace=True)\n",
            "      (conv2): Conv2d(256, 256, kernel_size=(3, 3), stride=(1, 1), padding=(1, 1), bias=False)\n",
            "      (bn2): BatchNorm2d(256, eps=1e-05, momentum=0.1, affine=True, track_running_stats=True)\n",
            "      (downsample): Sequential(\n",
            "        (0): Conv2d(128, 256, kernel_size=(1, 1), stride=(2, 2), bias=False)\n",
            "        (1): BatchNorm2d(256, eps=1e-05, momentum=0.1, affine=True, track_running_stats=True)\n",
            "      )\n",
            "    )\n",
            "    (1): BasicBlock(\n",
            "      (conv1): Conv2d(256, 256, kernel_size=(3, 3), stride=(1, 1), padding=(1, 1), bias=False)\n",
            "      (bn1): BatchNorm2d(256, eps=1e-05, momentum=0.1, affine=True, track_running_stats=True)\n",
            "      (relu): ReLU(inplace=True)\n",
            "      (conv2): Conv2d(256, 256, kernel_size=(3, 3), stride=(1, 1), padding=(1, 1), bias=False)\n",
            "      (bn2): BatchNorm2d(256, eps=1e-05, momentum=0.1, affine=True, track_running_stats=True)\n",
            "    )\n",
            "  )\n",
            "  (layer4): Sequential(\n",
            "    (0): BasicBlock(\n",
            "      (conv1): Conv2d(256, 512, kernel_size=(3, 3), stride=(2, 2), padding=(1, 1), bias=False)\n",
            "      (bn1): BatchNorm2d(512, eps=1e-05, momentum=0.1, affine=True, track_running_stats=True)\n",
            "      (relu): ReLU(inplace=True)\n",
            "      (conv2): Conv2d(512, 512, kernel_size=(3, 3), stride=(1, 1), padding=(1, 1), bias=False)\n",
            "      (bn2): BatchNorm2d(512, eps=1e-05, momentum=0.1, affine=True, track_running_stats=True)\n",
            "      (downsample): Sequential(\n",
            "        (0): Conv2d(256, 512, kernel_size=(1, 1), stride=(2, 2), bias=False)\n",
            "        (1): BatchNorm2d(512, eps=1e-05, momentum=0.1, affine=True, track_running_stats=True)\n",
            "      )\n",
            "    )\n",
            "    (1): BasicBlock(\n",
            "      (conv1): Conv2d(512, 512, kernel_size=(3, 3), stride=(1, 1), padding=(1, 1), bias=False)\n",
            "      (bn1): BatchNorm2d(512, eps=1e-05, momentum=0.1, affine=True, track_running_stats=True)\n",
            "      (relu): ReLU(inplace=True)\n",
            "      (conv2): Conv2d(512, 512, kernel_size=(3, 3), stride=(1, 1), padding=(1, 1), bias=False)\n",
            "      (bn2): BatchNorm2d(512, eps=1e-05, momentum=0.1, affine=True, track_running_stats=True)\n",
            "    )\n",
            "  )\n",
            "  (avgpool): AdaptiveAvgPool2d(output_size=(1, 1))\n",
            "  (fc): Linear(in_features=512, out_features=1000, bias=True)\n",
            ")\n"
          ]
        }
      ],
      "source": [
        "# instantiate a ResNet-18 from torchvision\n",
        "resnet18_instance = models.resnet18()\n",
        "\n",
        "# print model architecture\n",
        "print(resnet18_instance)"
      ]
    },
    {
      "cell_type": "markdown",
      "source": [
        "Load the CIFAR10 dataset"
      ],
      "metadata": {
        "id": "vsmJ3WBCjspb"
      }
    },
    {
      "cell_type": "code",
      "source": [
        "def get_data(batch_size, test_batch_size=256):\n",
        "  # prepare data transformations and then combine them sequentially\n",
        "  transform = list()\n",
        "  transform.append(T.Resize((227,227)))\n",
        "  transform.append(T.ToTensor()) # converts numpy to Pytorch tensor\n",
        "  transform.append(T.Normalize(mean=[0.5], std=[0.5]))  # normalizes the tensors between [-1, 1] \n",
        "  transform = T.Compose(transform) # composes the above transformations into one\n",
        "  # load data\n",
        "  full_training_data = torchvision.datasets.CIFAR10('./data', train=True, transform=transform, download=True)\n",
        "  test_data = torchvision.datasets.CIFAR10('./data', train=False, transform=transform, download=True)\n",
        "\n",
        "  # create train and validation splits\n",
        "  num_samples = len(full_training_data)\n",
        "  training_samples = int(num_samples*0.8+1)\n",
        "  validation_samples = num_samples - training_samples\n",
        "  training_data, validation_data = torch.utils.data.random_split(full_training_data, [training_samples, validation_samples])\n",
        "\n",
        "  # initialize dataloaders\n",
        "  train_loader = torch.utils.data.DataLoader(training_data, batch_size, shuffle=True)\n",
        "  val_loader = torch.utils.data.DataLoader(validation_data, test_batch_size, shuffle=False)\n",
        "  test_loader = torch.utils.data.DataLoader(test_data, batch_size, shuffle=False)\n",
        "\n",
        "  return train_loader, val_loader, test_loader                                          "
      ],
      "metadata": {
        "id": "BHLgJlnpqez4"
      },
      "execution_count": 16,
      "outputs": []
    },
    {
      "cell_type": "markdown",
      "source": [
        "Train Resnet18"
      ],
      "metadata": {
        "id": "GRFlW0qTmf_r"
      }
    },
    {
      "cell_type": "code",
      "source": [
        "# define the needed functions to get the loss function\n",
        "def get_loss_function():\n",
        "  loss_function = nn.CrossEntropyLoss()\n",
        "  return loss_function\n",
        "\n",
        "# optimizer to optimize the weights base on the loss\n",
        "def get_optimizer(net, lr, wd, momentum):\n",
        "  optimizer = torch.optim.SGD(net.parameters(), lr=lr, weight_decay=wd, momentum=momentum)\n",
        "  return optimizer"
      ],
      "metadata": {
        "id": "ejrtFpO4pNIA"
      },
      "execution_count": 17,
      "outputs": []
    },
    {
      "cell_type": "code",
      "source": [
        "# train the resnet18 instance model\n",
        "def train(net, data_loader, optimizer, loss_function, device='cuda:0'):\n",
        "  samples = 0.\n",
        "  cumulative_loss = 0.\n",
        "  cumulative_accuracy = 0.\n",
        "  net.train() # Strictly needed if network contains layers which has different behaviours between train and test\n",
        "  with tqdm.tqdm(total=len(data_loader)) as pbar:\n",
        "    for batch_idx, (inputs, targets) in enumerate(data_loader):\n",
        "      # Load data into GPU\n",
        "      inputs, targets = inputs.to(device), targets.to(device)\n",
        "      outputs = net(inputs) # Forward pass\n",
        "      loss = loss_function(outputs,targets) # Apply the loss\n",
        "      loss.backward() # Backward pass\n",
        "      optimizer.step() # Update parameters\n",
        "      optimizer.zero_grad() # Reset the optimizer\n",
        "      samples += inputs.shape[0]\n",
        "      cumulative_loss += loss.item()\n",
        "      _, predicted = outputs.max(1)\n",
        "      cumulative_accuracy += predicted.eq(targets).sum().item()\n",
        "      pbar.set_postfix_str(\"training with Current loss: {:.4f}, Accuracy: {:.4f}, at iteration: {:.1f}\".format(cumulative_loss/ samples, cumulative_accuracy / samples*100, float(batch_idx)))\n",
        "      pbar.update()\n",
        "  return cumulative_loss/samples, cumulative_accuracy/samples*100"
      ],
      "metadata": {
        "id": "sbIXZ97tm5or"
      },
      "execution_count": 18,
      "outputs": []
    },
    {
      "cell_type": "code",
      "source": [
        "#also to test the accuracy of the model we are going to use a test function to test the accuracy over the validation set \n",
        "def test(net, data_loader, loss_function, device='cuda:0'):\n",
        "  samples = 0.\n",
        "  cumulative_loss = 0.\n",
        "  cumulative_accuracy = 0.\n",
        "  net.eval() # Strictly needed if network contains layers which have different behaviours between train and test\n",
        "  with tqdm.tqdm(total=len(data_loader)) as pbar:  \n",
        "    with torch.no_grad():\n",
        "      for batch_idx, (inputs, targets) in enumerate(data_loader):\n",
        "        # Load data into GPU\n",
        "        inputs, targets = inputs.to(device), targets.to(device)\n",
        "        # Forward pass\n",
        "        outputs = net(inputs)\n",
        "        _, predicted = outputs.max(1)\n",
        "        loss = loss_function(outputs,targets) \n",
        "        samples += inputs.shape[0]\n",
        "        cumulative_loss += loss.item()\n",
        "        cumulative_accuracy += predicted.eq(targets).sum().item()\n",
        "        pbar.set_postfix_str(\"validation with Current loss: {:.4f}, Accuracy: {:.4f}, at iteration: {:.1f}\".format(cumulative_loss/ samples, cumulative_accuracy / samples*100, float(batch_idx)))\n",
        "        pbar.update()\n",
        "  return cumulative_loss/samples, cumulative_accuracy/samples*100"
      ],
      "metadata": {
        "id": "YuF1IQfzneJ5"
      },
      "execution_count": 19,
      "outputs": []
    },
    {
      "cell_type": "code",
      "source": [
        "def trainer(\n",
        "    # lets define the basic hyperparameters\n",
        "    batch_size=128,\n",
        "    learning_rate=0.01,\n",
        "    weight_decay=0.000001,\n",
        "    momentum=0.9,\n",
        "    epochs=10,\n",
        "    model=None):\n",
        "  #now we load the data in three splits train, test and validation \n",
        "  train_loader, val_loader, test_loader = get_data(batch_size)\n",
        "  # Moving the resnet to gpu device if it is available\n",
        "  net = model.to(device)\n",
        "  # defining the optimizer\n",
        "  optimizer = get_optimizer(net, learning_rate, weight_decay, momentum)\n",
        "  # defining the loss function\n",
        "  loss_function = get_loss_function()\n",
        "  # finaly training the model \n",
        "\n",
        "\n",
        "  # In order to save the accuracy and loss we use a list to save them in each epoch \n",
        "  val_loss_list = []\n",
        "  val_accuracy_list = []\n",
        "  train_loss_list = []\n",
        "  train_accuracy_list = []\n",
        "\n",
        "  for e in range(epochs):\n",
        "    print('training epoch number {:.2f} of total epochs of {:.2f}'.format(e,epochs))\n",
        "    train_loss, train_accuracy = train(net, train_loader, optimizer, loss_function)\n",
        "    val_loss, val_accuracy = test(net, val_loader, loss_function)\n",
        "    val_loss_list.append(val_loss)\n",
        "    val_accuracy_list.append(val_accuracy)\n",
        "    train_loss_list.append(train_loss)\n",
        "    train_accuracy_list.append(train_accuracy)\n",
        "\n",
        "\n",
        "    print('Epoch: {:d}'.format(e+1))\n",
        "    print('\\t Training loss {:.5f}, Training accuracy {:.2f}'.format(train_loss,\n",
        "    train_accuracy))\n",
        "    print('\\t Validation loss {:.5f}, Validation accuracy {:.2f}'.format(val_loss,\n",
        "    val_accuracy))\n",
        "  print('-----------------------------------------------------')\n",
        "  print('After training:')\n",
        "  train_loss, train_accuracy = test(net, train_loader, loss_function)\n",
        "  val_loss, val_accuracy = test(net, val_loader, loss_function)\n",
        "  test_loss, test_accuracy = test(net, test_loader, loss_function)\n",
        "  print('\\t Training loss {:.5f}, Training accuracy {:.2f}'.format(train_loss,\n",
        "  train_accuracy))\n",
        "  print('\\t Validation loss {:.5f}, Validation accuracy {:.2f}'.format(val_loss,\n",
        "  val_accuracy))\n",
        "  print('\\t Test loss {:.5f}, Test accuracy {:.2f}'.format(test_loss, test_accuracy))\n",
        "  print('-----------------------------------------------------')\n",
        "  return val_loss_list, val_accuracy_list, train_loss_list, train_accuracy_list"
      ],
      "metadata": {
        "id": "Jfdzsz9xnmoz"
      },
      "execution_count": 20,
      "outputs": []
    },
    {
      "cell_type": "code",
      "source": [
        "resnet_val_loss,resnet_val_accuracy, resnet_train_loss,resnet_train_accuracy = trainer(model=resnet18_instance)"
      ],
      "metadata": {
        "colab": {
          "base_uri": "https://localhost:8080/"
        },
        "id": "1a1zf3kwnwh6",
        "outputId": "27f3fe3c-2f86-49a9-aa43-946fcba8cbf0"
      },
      "execution_count": 22,
      "outputs": [
        {
          "output_type": "stream",
          "name": "stdout",
          "text": [
            "Files already downloaded and verified\n",
            "Files already downloaded and verified\n",
            "training epoch number 0.00 of total epochs of 10.00\n"
          ]
        },
        {
          "output_type": "stream",
          "name": "stderr",
          "text": [
            "100%|██████████| 313/313 [03:27<00:00,  1.51it/s, training with Current loss: 0.0127, Accuracy: 42.1989, at iteration: 312.0]\n",
            "100%|██████████| 40/40 [00:27<00:00,  1.43it/s, validation with Current loss: 0.0054, Accuracy: 50.7951, at iteration: 39.0]\n"
          ]
        },
        {
          "output_type": "stream",
          "name": "stdout",
          "text": [
            "Epoch: 1\n",
            "\t Training loss 0.01266, Training accuracy 42.20\n",
            "\t Validation loss 0.00544, Validation accuracy 50.80\n",
            "training epoch number 1.00 of total epochs of 10.00\n"
          ]
        },
        {
          "output_type": "stream",
          "name": "stderr",
          "text": [
            "100%|██████████| 313/313 [03:31<00:00,  1.48it/s, training with Current loss: 0.0084, Accuracy: 61.4260, at iteration: 312.0]\n",
            "100%|██████████| 40/40 [00:38<00:00,  1.04it/s, validation with Current loss: 0.0044, Accuracy: 61.0661, at iteration: 39.0]\n"
          ]
        },
        {
          "output_type": "stream",
          "name": "stdout",
          "text": [
            "Epoch: 2\n",
            "\t Training loss 0.00835, Training accuracy 61.43\n",
            "\t Validation loss 0.00442, Validation accuracy 61.07\n",
            "training epoch number 2.00 of total epochs of 10.00\n"
          ]
        },
        {
          "output_type": "stream",
          "name": "stderr",
          "text": [
            "100%|██████████| 313/313 [03:33<00:00,  1.47it/s, training with Current loss: 0.0065, Accuracy: 70.2407, at iteration: 312.0]\n",
            "100%|██████████| 40/40 [00:28<00:00,  1.43it/s, validation with Current loss: 0.0044, Accuracy: 61.8062, at iteration: 39.0]\n"
          ]
        },
        {
          "output_type": "stream",
          "name": "stdout",
          "text": [
            "Epoch: 3\n",
            "\t Training loss 0.00649, Training accuracy 70.24\n",
            "\t Validation loss 0.00442, Validation accuracy 61.81\n",
            "training epoch number 3.00 of total epochs of 10.00\n"
          ]
        },
        {
          "output_type": "stream",
          "name": "stderr",
          "text": [
            "100%|██████████| 313/313 [03:29<00:00,  1.49it/s, training with Current loss: 0.0050, Accuracy: 77.2056, at iteration: 312.0]\n",
            "100%|██████████| 40/40 [00:27<00:00,  1.43it/s, validation with Current loss: 0.0037, Accuracy: 69.9470, at iteration: 39.0]\n"
          ]
        },
        {
          "output_type": "stream",
          "name": "stdout",
          "text": [
            "Epoch: 4\n",
            "\t Training loss 0.00504, Training accuracy 77.21\n",
            "\t Validation loss 0.00374, Validation accuracy 69.95\n",
            "training epoch number 4.00 of total epochs of 10.00\n"
          ]
        },
        {
          "output_type": "stream",
          "name": "stderr",
          "text": [
            "100%|██████████| 313/313 [03:29<00:00,  1.49it/s, training with Current loss: 0.0039, Accuracy: 82.4454, at iteration: 312.0]\n",
            "100%|██████████| 40/40 [00:28<00:00,  1.41it/s, validation with Current loss: 0.0032, Accuracy: 74.4074, at iteration: 39.0]\n"
          ]
        },
        {
          "output_type": "stream",
          "name": "stdout",
          "text": [
            "Epoch: 5\n",
            "\t Training loss 0.00390, Training accuracy 82.45\n",
            "\t Validation loss 0.00324, Validation accuracy 74.41\n",
            "training epoch number 5.00 of total epochs of 10.00\n"
          ]
        },
        {
          "output_type": "stream",
          "name": "stderr",
          "text": [
            "100%|██████████| 313/313 [03:30<00:00,  1.49it/s, training with Current loss: 0.0029, Accuracy: 87.1228, at iteration: 312.0]\n",
            "100%|██████████| 40/40 [00:28<00:00,  1.41it/s, validation with Current loss: 0.0040, Accuracy: 69.3069, at iteration: 39.0]\n"
          ]
        },
        {
          "output_type": "stream",
          "name": "stdout",
          "text": [
            "Epoch: 6\n",
            "\t Training loss 0.00289, Training accuracy 87.12\n",
            "\t Validation loss 0.00396, Validation accuracy 69.31\n",
            "training epoch number 6.00 of total epochs of 10.00\n"
          ]
        },
        {
          "output_type": "stream",
          "name": "stderr",
          "text": [
            "100%|██████████| 313/313 [03:30<00:00,  1.48it/s, training with Current loss: 0.0019, Accuracy: 91.5402, at iteration: 312.0]\n",
            "100%|██████████| 40/40 [00:29<00:00,  1.34it/s, validation with Current loss: 0.0044, Accuracy: 71.4171, at iteration: 39.0]\n"
          ]
        },
        {
          "output_type": "stream",
          "name": "stdout",
          "text": [
            "Epoch: 7\n",
            "\t Training loss 0.00191, Training accuracy 91.54\n",
            "\t Validation loss 0.00443, Validation accuracy 71.42\n",
            "training epoch number 7.00 of total epochs of 10.00\n"
          ]
        },
        {
          "output_type": "stream",
          "name": "stderr",
          "text": [
            "100%|██████████| 313/313 [03:30<00:00,  1.48it/s, training with Current loss: 0.0013, Accuracy: 94.6026, at iteration: 312.0]\n",
            "100%|██████████| 40/40 [00:28<00:00,  1.41it/s, validation with Current loss: 0.0088, Accuracy: 55.1255, at iteration: 39.0]\n"
          ]
        },
        {
          "output_type": "stream",
          "name": "stdout",
          "text": [
            "Epoch: 8\n",
            "\t Training loss 0.00126, Training accuracy 94.60\n",
            "\t Validation loss 0.00884, Validation accuracy 55.13\n",
            "training epoch number 8.00 of total epochs of 10.00\n"
          ]
        },
        {
          "output_type": "stream",
          "name": "stderr",
          "text": [
            "100%|██████████| 313/313 [03:31<00:00,  1.48it/s, training with Current loss: 0.0008, Accuracy: 96.7351, at iteration: 312.0]\n",
            "100%|██████████| 40/40 [00:28<00:00,  1.39it/s, validation with Current loss: 0.0044, Accuracy: 73.8174, at iteration: 39.0]\n"
          ]
        },
        {
          "output_type": "stream",
          "name": "stdout",
          "text": [
            "Epoch: 9\n",
            "\t Training loss 0.00077, Training accuracy 96.74\n",
            "\t Validation loss 0.00440, Validation accuracy 73.82\n",
            "training epoch number 9.00 of total epochs of 10.00\n"
          ]
        },
        {
          "output_type": "stream",
          "name": "stderr",
          "text": [
            "100%|██████████| 313/313 [03:31<00:00,  1.48it/s, training with Current loss: 0.0005, Accuracy: 97.9651, at iteration: 312.0]\n",
            "100%|██████████| 40/40 [00:28<00:00,  1.42it/s, validation with Current loss: 0.0058, Accuracy: 70.9671, at iteration: 39.0]\n"
          ]
        },
        {
          "output_type": "stream",
          "name": "stdout",
          "text": [
            "Epoch: 10\n",
            "\t Training loss 0.00050, Training accuracy 97.97\n",
            "\t Validation loss 0.00579, Validation accuracy 70.97\n",
            "-----------------------------------------------------\n",
            "After training:\n"
          ]
        },
        {
          "output_type": "stream",
          "name": "stderr",
          "text": [
            "100%|██████████| 313/313 [01:51<00:00,  2.82it/s, validation with Current loss: 0.0021, Accuracy: 91.5552, at iteration: 312.0]\n",
            "100%|██████████| 40/40 [00:28<00:00,  1.41it/s, validation with Current loss: 0.0058, Accuracy: 70.9671, at iteration: 39.0]\n",
            "100%|██████████| 79/79 [00:27<00:00,  2.82it/s, validation with Current loss: 0.0112, Accuracy: 71.6100, at iteration: 78.0]"
          ]
        },
        {
          "output_type": "stream",
          "name": "stdout",
          "text": [
            "\t Training loss 0.00209, Training accuracy 91.56\n",
            "\t Validation loss 0.00579, Validation accuracy 70.97\n",
            "\t Test loss 0.01116, Test accuracy 71.61\n",
            "-----------------------------------------------------\n"
          ]
        },
        {
          "output_type": "stream",
          "name": "stderr",
          "text": [
            "\n"
          ]
        }
      ]
    },
    {
      "cell_type": "code",
      "source": [
        "import matplotlib.pyplot as plt\n",
        "\n",
        "fig = plt.figure(figsize=(10,10))\n",
        "plt.title(\"Train-Validation Accuracy\")\n",
        "plt.plot(resnet_train_accuracy, label='train')\n",
        "plt.plot(resnet_val_accuracy, label='validation')\n",
        "plt.xlabel('num_epochs', fontsize=12)\n",
        "plt.ylabel('accuracy', fontsize=12)\n",
        "plt.legend(loc='best')\n",
        "plt.show()"
      ],
      "metadata": {
        "colab": {
          "base_uri": "https://localhost:8080/",
          "height": 876
        },
        "id": "yR62Y8PTn1iX",
        "outputId": "d0a89330-c8ec-4561-b972-1377514500c3"
      },
      "execution_count": 24,
      "outputs": [
        {
          "output_type": "display_data",
          "data": {
            "text/plain": [
              "<Figure size 1000x1000 with 1 Axes>"
            ],
            "image/png": "[encoded data removed]"
          },
          "metadata": {}
        }
      ]
    },
    {
      "cell_type": "markdown",
      "source": [
        "Try the same with pretrained weights"
      ],
      "metadata": {
        "id": "b4PKISilpwkz"
      }
    },
    {
      "cell_type": "code",
      "source": [
        "pretrained_resnet18 = models.resnet18(torchvision.models.ResNet18_Weights.IMAGENET1K_V1)"
      ],
      "metadata": {
        "colab": {
          "base_uri": "https://localhost:8080/"
        },
        "id": "smsmaZtwp1Gy",
        "outputId": "d0015e43-3e55-4c1c-e7cc-5395bd34e8ec"
      },
      "execution_count": 25,
      "outputs": [
        {
          "output_type": "stream",
          "name": "stderr",
          "text": [
            "/usr/local/lib/python3.10/dist-packages/torchvision/models/_utils.py:135: UserWarning: Using 'weights' as positional parameter(s) is deprecated since 0.13 and may be removed in the future. Please use keyword parameter(s) instead.\n",
            "  warnings.warn(\n",
            "Downloading: \"https://download.pytorch.org/models/resnet18-f37072fd.pth\" to /root/.cache/torch/hub/checkpoints/resnet18-f37072fd.pth\n",
            "100%|██████████| 44.7M/44.7M [00:01<00:00, 36.3MB/s]\n"
          ]
        }
      ]
    },
    {
      "cell_type": "code",
      "source": [
        "pre_trained_resnet_val_loss,pre_trained_resnet_val_accuracy, pre_trained_resnet_train_loss,pre_trained_resnet_train_accuracy = trainer(model=pretrained_resnet18)"
      ],
      "metadata": {
        "colab": {
          "base_uri": "https://localhost:8080/"
        },
        "id": "ycJXER8dp9jQ",
        "outputId": "d1afb5d3-c800-4f60-9c8f-54c3e58c4dec"
      },
      "execution_count": 29,
      "outputs": [
        {
          "output_type": "stream",
          "name": "stdout",
          "text": [
            "Files already downloaded and verified\n",
            "Files already downloaded and verified\n",
            "training epoch number 0.00 of total epochs of 10.00\n"
          ]
        },
        {
          "output_type": "stream",
          "name": "stderr",
          "text": [
            "100%|██████████| 313/313 [03:29<00:00,  1.49it/s, training with Current loss: 0.0044, Accuracy: 83.1554, at iteration: 312.0]\n",
            "100%|██████████| 40/40 [00:27<00:00,  1.44it/s, validation with Current loss: 0.0012, Accuracy: 90.1990, at iteration: 39.0]\n"
          ]
        },
        {
          "output_type": "stream",
          "name": "stdout",
          "text": [
            "Epoch: 1\n",
            "\t Training loss 0.00443, Training accuracy 83.16\n",
            "\t Validation loss 0.00116, Validation accuracy 90.20\n",
            "training epoch number 1.00 of total epochs of 10.00\n"
          ]
        },
        {
          "output_type": "stream",
          "name": "stderr",
          "text": [
            "100%|██████████| 313/313 [03:29<00:00,  1.49it/s, training with Current loss: 0.0012, Accuracy: 94.8601, at iteration: 312.0]\n",
            "100%|██████████| 40/40 [00:27<00:00,  1.46it/s, validation with Current loss: 0.0010, Accuracy: 92.2692, at iteration: 39.0]\n"
          ]
        },
        {
          "output_type": "stream",
          "name": "stdout",
          "text": [
            "Epoch: 2\n",
            "\t Training loss 0.00118, Training accuracy 94.86\n",
            "\t Validation loss 0.00095, Validation accuracy 92.27\n",
            "training epoch number 2.00 of total epochs of 10.00\n"
          ]
        },
        {
          "output_type": "stream",
          "name": "stderr",
          "text": [
            "100%|██████████| 313/313 [03:30<00:00,  1.49it/s, training with Current loss: 0.0004, Accuracy: 98.1200, at iteration: 312.0]\n",
            "100%|██████████| 40/40 [00:27<00:00,  1.45it/s, validation with Current loss: 0.0009, Accuracy: 93.0093, at iteration: 39.0]\n"
          ]
        },
        {
          "output_type": "stream",
          "name": "stdout",
          "text": [
            "Epoch: 3\n",
            "\t Training loss 0.00044, Training accuracy 98.12\n",
            "\t Validation loss 0.00094, Validation accuracy 93.01\n",
            "training epoch number 3.00 of total epochs of 10.00\n"
          ]
        },
        {
          "output_type": "stream",
          "name": "stderr",
          "text": [
            "100%|██████████| 313/313 [03:31<00:00,  1.48it/s, training with Current loss: 0.0002, Accuracy: 99.3100, at iteration: 312.0]\n",
            "100%|██████████| 40/40 [00:27<00:00,  1.46it/s, validation with Current loss: 0.0008, Accuracy: 93.8894, at iteration: 39.0]\n"
          ]
        },
        {
          "output_type": "stream",
          "name": "stdout",
          "text": [
            "Epoch: 4\n",
            "\t Training loss 0.00018, Training accuracy 99.31\n",
            "\t Validation loss 0.00083, Validation accuracy 93.89\n",
            "training epoch number 4.00 of total epochs of 10.00\n"
          ]
        },
        {
          "output_type": "stream",
          "name": "stderr",
          "text": [
            "100%|██████████| 313/313 [03:30<00:00,  1.49it/s, training with Current loss: 0.0001, Accuracy: 99.8125, at iteration: 312.0]\n",
            "100%|██████████| 40/40 [00:27<00:00,  1.47it/s, validation with Current loss: 0.0008, Accuracy: 94.4094, at iteration: 39.0]\n"
          ]
        },
        {
          "output_type": "stream",
          "name": "stdout",
          "text": [
            "Epoch: 5\n",
            "\t Training loss 0.00007, Training accuracy 99.81\n",
            "\t Validation loss 0.00080, Validation accuracy 94.41\n",
            "training epoch number 5.00 of total epochs of 10.00\n"
          ]
        },
        {
          "output_type": "stream",
          "name": "stderr",
          "text": [
            "100%|██████████| 313/313 [03:29<00:00,  1.49it/s, training with Current loss: 0.0000, Accuracy: 99.9450, at iteration: 312.0]\n",
            "100%|██████████| 40/40 [00:27<00:00,  1.43it/s, validation with Current loss: 0.0008, Accuracy: 94.6995, at iteration: 39.0]\n"
          ]
        },
        {
          "output_type": "stream",
          "name": "stdout",
          "text": [
            "Epoch: 6\n",
            "\t Training loss 0.00003, Training accuracy 99.95\n",
            "\t Validation loss 0.00081, Validation accuracy 94.70\n",
            "training epoch number 6.00 of total epochs of 10.00\n"
          ]
        },
        {
          "output_type": "stream",
          "name": "stderr",
          "text": [
            "100%|██████████| 313/313 [03:29<00:00,  1.49it/s, training with Current loss: 0.0000, Accuracy: 99.9950, at iteration: 312.0]\n",
            "100%|██████████| 40/40 [00:28<00:00,  1.42it/s, validation with Current loss: 0.0008, Accuracy: 94.9795, at iteration: 39.0]\n"
          ]
        },
        {
          "output_type": "stream",
          "name": "stdout",
          "text": [
            "Epoch: 7\n",
            "\t Training loss 0.00001, Training accuracy 100.00\n",
            "\t Validation loss 0.00077, Validation accuracy 94.98\n",
            "training epoch number 7.00 of total epochs of 10.00\n"
          ]
        },
        {
          "output_type": "stream",
          "name": "stderr",
          "text": [
            "100%|██████████| 313/313 [03:29<00:00,  1.50it/s, training with Current loss: 0.0000, Accuracy: 100.0000, at iteration: 312.0]\n",
            "100%|██████████| 40/40 [00:27<00:00,  1.46it/s, validation with Current loss: 0.0008, Accuracy: 95.0495, at iteration: 39.0]\n"
          ]
        },
        {
          "output_type": "stream",
          "name": "stdout",
          "text": [
            "Epoch: 8\n",
            "\t Training loss 0.00001, Training accuracy 100.00\n",
            "\t Validation loss 0.00077, Validation accuracy 95.05\n",
            "training epoch number 8.00 of total epochs of 10.00\n"
          ]
        },
        {
          "output_type": "stream",
          "name": "stderr",
          "text": [
            "100%|██████████| 313/313 [03:29<00:00,  1.49it/s, training with Current loss: 0.0000, Accuracy: 100.0000, at iteration: 312.0]\n",
            "100%|██████████| 40/40 [00:27<00:00,  1.47it/s, validation with Current loss: 0.0008, Accuracy: 95.0795, at iteration: 39.0]\n"
          ]
        },
        {
          "output_type": "stream",
          "name": "stdout",
          "text": [
            "Epoch: 9\n",
            "\t Training loss 0.00000, Training accuracy 100.00\n",
            "\t Validation loss 0.00077, Validation accuracy 95.08\n",
            "training epoch number 9.00 of total epochs of 10.00\n"
          ]
        },
        {
          "output_type": "stream",
          "name": "stderr",
          "text": [
            "100%|██████████| 313/313 [03:29<00:00,  1.50it/s, training with Current loss: 0.0000, Accuracy: 100.0000, at iteration: 312.0]\n",
            "100%|██████████| 40/40 [00:26<00:00,  1.49it/s, validation with Current loss: 0.0008, Accuracy: 95.0795, at iteration: 39.0]\n"
          ]
        },
        {
          "output_type": "stream",
          "name": "stdout",
          "text": [
            "Epoch: 10\n",
            "\t Training loss 0.00000, Training accuracy 100.00\n",
            "\t Validation loss 0.00078, Validation accuracy 95.08\n",
            "-----------------------------------------------------\n",
            "After training:\n"
          ]
        },
        {
          "output_type": "stream",
          "name": "stderr",
          "text": [
            "100%|██████████| 313/313 [01:49<00:00,  2.85it/s, validation with Current loss: 0.0000, Accuracy: 100.0000, at iteration: 312.0]\n",
            "100%|██████████| 40/40 [00:26<00:00,  1.48it/s, validation with Current loss: 0.0008, Accuracy: 95.0795, at iteration: 39.0]\n",
            "100%|██████████| 79/79 [00:27<00:00,  2.90it/s, validation with Current loss: 0.0015, Accuracy: 95.1200, at iteration: 78.0]"
          ]
        },
        {
          "output_type": "stream",
          "name": "stdout",
          "text": [
            "\t Training loss 0.00000, Training accuracy 100.00\n",
            "\t Validation loss 0.00078, Validation accuracy 95.08\n",
            "\t Test loss 0.00155, Test accuracy 95.12\n",
            "-----------------------------------------------------\n"
          ]
        },
        {
          "output_type": "stream",
          "name": "stderr",
          "text": [
            "\n"
          ]
        }
      ]
    },
    {
      "cell_type": "code",
      "source": [
        "#now we can see the difference between the pre trained model and training from scratch \n",
        "fig = plt.figure(figsize=(10,10))\n",
        "plt.title(\"Validation Accuracy Compare\")\n",
        "plt.plot(resnet_val_accuracy, label='normal training')\n",
        "plt.plot(pre_trained_resnet_val_accuracy, label='pre-trained training')\n",
        "plt.xlabel('num_epochs', fontsize=12)\n",
        "plt.ylabel('accuracy', fontsize=12)\n",
        "plt.legend(loc='best')\n",
        "plt.show()\n",
        "# As you can see pre trined model started from much better point and achieve better results, as it applies the knowldge learned from imagenet to train\n",
        "# the new model"
      ],
      "metadata": {
        "colab": {
          "base_uri": "https://localhost:8080/",
          "height": 876
        },
        "id": "ECcmiayhyMet",
        "outputId": "fc1dce08-3f0f-4f96-94a9-3a9683f214bf"
      },
      "execution_count": 30,
      "outputs": [
        {
          "output_type": "display_data",
          "data": {
            "text/plain": [
              "<Figure size 1000x1000 with 1 Axes>"
            ],
            "image/png": "[encoded data removed]"
          },
          "metadata": {}
        }
      ]
    }
  ]
}