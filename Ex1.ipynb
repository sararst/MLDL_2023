{
  "nbformat": 4,
  "nbformat_minor": 0,
  "metadata": {
    "colab": {
      "provenance": [],
      "authorship_tag": "ABX9TyNdLoCjcoG2DLLTS9TINTyc",
      "include_colab_link": true
    },
    "kernelspec": {
      "name": "python3",
      "display_name": "Python 3"
    },
    "language_info": {
      "name": "python"
    }
  },
  "cells": [
    {
      "cell_type": "markdown",
      "metadata": {
        "id": "view-in-github",
        "colab_type": "text"
      },
      "source": [
        "<a href=\"https://colab.research.google.com/github/sararst/MLDL_2023/blob/main/Ex1.ipynb\" target=\"_parent\"><img src=\"https://colab.research.google.com/assets/colab-badge.svg\" alt=\"Open In Colab\"/></a>"
      ]
    },
    {
      "cell_type": "code",
      "source": [
        "!git clone https://github.com/sararst/MLDL_2023"
      ],
      "metadata": {
        "colab": {
          "base_uri": "https://localhost:8080/"
        },
        "id": "DgtsdBq-k44F",
        "outputId": "1a3e611e-0733-4126-eece-c35028b367da"
      },
      "execution_count": 24,
      "outputs": [
        {
          "output_type": "stream",
          "name": "stdout",
          "text": [
            "Cloning into 'MLDL_2023'...\n",
            "fatal: could not read Username for 'https://github.com': No such device or address\n"
          ]
        }
      ]
    },
    {
      "cell_type": "code",
      "execution_count": 21,
      "metadata": {
        "id": "TPeHZMh_hCaH"
      },
      "outputs": [],
      "source": [
        "import numpy as np\n",
        "import pandas as pd\n",
        "import matplotlib.pyplot as plt\n",
        "from matplotlib.colors import ListedColormap\n",
        "import seaborn as sns\n",
        "\n",
        "from sklearn import datasets\n",
        "from sklearn.model_selection import train_test_split\n",
        "from sklearn.decomposition import PCA\n",
        "from sklearn.neighbors import KNeighborsClassifier\n",
        "from sklearn.pipeline import make_pipeline\n",
        "from sklearn.preprocessing import StandardScaler, MaxAbsScaler\n",
        "from sklearn.datasets import load_digits\n",
        "from sklearn.inspection import DecisionBoundaryDisplay\n",
        "from sklearn.metrics import accuracy_score, precision_recall_fscore_support"
      ]
    },
    {
      "cell_type": "markdown",
      "source": [
        "Train a knn on MNIST"
      ],
      "metadata": {
        "id": "FqG8OWxji6I2"
      }
    },
    {
      "cell_type": "code",
      "source": [
        "n_neighbors = 5\n",
        "random_state = 0\n",
        "X, y = load_digits(return_X_y=True) # Load Digits dataset\n",
        "X_train, X_test, y_train, y_test = train_test_split(X, y, test_size=0.8, stratify=y, random_state=random_state, shuffle=True)# Split into train/test\n",
        "\n",
        "knn = KNeighborsClassifier(n_neighbors=n_neighbors)\n",
        "knn.fit(X_train, y_train)\n",
        "y_pred = knn.predict(X_test)\n",
        "acc = accuracy_score(y_test, y_pred)\n",
        "_, _, f1, _ = precision_recall_fscore_support(y_test, y_pred, average='weighted')"
      ],
      "metadata": {
        "id": "ZwIlK72OhqKR"
      },
      "execution_count": 4,
      "outputs": []
    },
    {
      "cell_type": "code",
      "source": [
        "print(f'accuracy: {acc}')\n",
        "print(f'f1-score:  {f1}')"
      ],
      "metadata": {
        "colab": {
          "base_uri": "https://localhost:8080/"
        },
        "id": "r4tIF4bfis_B",
        "outputId": "4d5886eb-57d1-4bdc-95dc-1bbb0e28cfd4"
      },
      "execution_count": 6,
      "outputs": [
        {
          "output_type": "stream",
          "name": "stdout",
          "text": [
            "accuracy: 0.9506258692628651\n",
            "f1-score:  0.9504817378672602\n"
          ]
        }
      ]
    },
    {
      "cell_type": "markdown",
      "source": [
        "apply PCA"
      ],
      "metadata": {
        "id": "UWeIyVrni8ss"
      }
    },
    {
      "cell_type": "code",
      "source": [
        "# Reduce dimension to 2 with PCA\n",
        "# pca = make_pipeline(MaxAbsScaler(), PCA(n_components=2, random_state=42))\n",
        "# # knn = KNeighborsClassifier(n_neighbors=n_neighbors)\n",
        "# X_pca = pca.fit_transform(X_train) # Fit the method's model\n",
        "# X_test_pca = pca.transform(X_test)\n",
        "# knn.fit(X_pca, y_train)\n",
        "# y_pred = knn.predict(X_test_pca)\n",
        "# acc_knn = accuracy_score(y_test, y_pred)\n",
        "# _, _, f1, _ = precision_recall_fscore_support(y_test, y_pred, average='weighted')\n"
      ],
      "metadata": {
        "id": "M9hUeQY6iOlC"
      },
      "execution_count": 11,
      "outputs": []
    },
    {
      "cell_type": "code",
      "source": [
        "pca = make_pipeline(StandardScaler(), PCA(n_components=2, random_state=random_state))\n",
        "knn = KNeighborsClassifier(n_neighbors=n_neighbors)\n",
        "pca.fit(X_train, y_train) # Fit the method's model\n",
        "knn.fit(pca.transform(X_train), y_train)\n",
        "acc_knn = knn.score(pca.transform(X_test), y_test)"
      ],
      "metadata": {
        "id": "thFVk7tkkHjF"
      },
      "execution_count": 13,
      "outputs": []
    },
    {
      "cell_type": "code",
      "source": [
        "print(f'accuracy: {acc}')\n",
        "print(f'f1-score:  {f1}')"
      ],
      "metadata": {
        "colab": {
          "base_uri": "https://localhost:8080/"
        },
        "outputId": "2f90e83c-8fa7-4569-84f4-b0f8d8c949e3",
        "id": "5ZdnBaHGjwmr"
      },
      "execution_count": 15,
      "outputs": [
        {
          "output_type": "stream",
          "name": "stdout",
          "text": [
            "accuracy: 0.9506258692628651\n",
            "f1-score:  0.581088448842475\n"
          ]
        }
      ]
    },
    {
      "cell_type": "code",
      "source": [
        "cmap_light = ListedColormap(['red', 'orangered',  'orange', 'yellow', 'lime', 'green', 'cyan', 'blue', 'darkblue', 'violet'])\n",
        "cmap_bold = ['red', 'orangered',  'orange', 'yellow', 'lime', 'green', 'cyan', 'blue', 'darkblue', 'violet']\n",
        "_, ax = plt.subplots()\n",
        "DecisionBoundaryDisplay.from_estimator(\n",
        "      knn, PCA(2).fit_transform(X_train), # pass here your classifier and data\n",
        "      cmap=cmap_light, ax=ax,\n",
        "      response_method=\"predict\", plot_method=\"pcolormesh\",\n",
        "      shading=\"auto\",\n",
        "    )\n",
        "\n",
        "# Plot also the training points\n",
        "sns.scatterplot(\n",
        "      x=X[:, 0],\n",
        "      y=X[:, 1],\n",
        "      hue=load_digits().target_names[y],\n",
        "      palette=cmap_bold,\n",
        "      alpha=1.0,\n",
        "      edgecolor=\"black\",\n",
        "    )\n",
        "plt.title(\n",
        "      \"10-Class classification (k = %i)\" % (n_neighbors)\n",
        "    )\n",
        "plt.show()"
      ],
      "metadata": {
        "colab": {
          "base_uri": "https://localhost:8080/",
          "height": 281
        },
        "id": "gOwgHxZckXcB",
        "outputId": "6dbfab2a-0bf8-42dc-b365-e4eaac0e117d"
      },
      "execution_count": 22,
      "outputs": [
        {
          "output_type": "display_data",
          "data": {
            "text/plain": [
              "<Figure size 432x288 with 1 Axes>"
            ],
            "image/png": "[encoded data removed]"
          },
          "metadata": {
            "needs_background": "light"
          }
        }
      ]
    },
    {
      "cell_type": "code",
      "source": [],
      "metadata": {
        "id": "S80JVSJRk4Mh"
      },
      "execution_count": null,
      "outputs": []
    }
  ]
}